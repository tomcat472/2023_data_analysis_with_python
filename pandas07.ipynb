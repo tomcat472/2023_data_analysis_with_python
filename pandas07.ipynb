{
 "cells": [
  {
   "cell_type": "markdown",
   "id": "bdc32a85",
   "metadata": {},
   "source": [
    "# String Manipulation"
   ]
  },
  {
   "cell_type": "code",
   "execution_count": 1,
   "id": "9729da2e",
   "metadata": {},
   "outputs": [],
   "source": [
    "import pandas as pd"
   ]
  },
  {
   "cell_type": "code",
   "execution_count": 2,
   "id": "30489f58",
   "metadata": {},
   "outputs": [
    {
     "name": "stderr",
     "output_type": "stream",
     "text": [
      "C:\\Users\\Lenovo\\AppData\\Local\\Temp\\ipykernel_8208\\1905880014.py:1: DtypeWarning: Columns (68,70,71,72,73,74,76,79) have mixed types. Specify dtype option on import or set low_memory=False.\n",
      "  df=pd.read_csv('data/vehicles.csv.zip')\n"
     ]
    },
    {
     "data": {
      "text/plain": [
       "0        19\n",
       "1         9\n",
       "2        23\n",
       "3        10\n",
       "4        17\n",
       "         ..\n",
       "41139    19\n",
       "41140    20\n",
       "41141    18\n",
       "41142    18\n",
       "41143    16\n",
       "Name: city08, Length: 41144, dtype: int64"
      ]
     },
     "execution_count": 2,
     "metadata": {},
     "output_type": "execute_result"
    }
   ],
   "source": [
    "df=pd.read_csv('data/vehicles.csv.zip')\n",
    "city_mpg=df.city08\n",
    "city_mpg"
   ]
  },
  {
   "cell_type": "code",
   "execution_count": 3,
   "id": "5d8006d0",
   "metadata": {},
   "outputs": [
    {
     "data": {
      "text/plain": [
       "0        Alfa Romeo\n",
       "1           Ferrari\n",
       "2             Dodge\n",
       "3             Dodge\n",
       "4            Subaru\n",
       "            ...    \n",
       "41139        Subaru\n",
       "41140        Subaru\n",
       "41141        Subaru\n",
       "41142        Subaru\n",
       "41143        Subaru\n",
       "Name: make, Length: 41144, dtype: object"
      ]
     },
     "execution_count": 3,
     "metadata": {},
     "output_type": "execute_result"
    }
   ],
   "source": [
    "make=df.make\n",
    "make"
   ]
  },
  {
   "cell_type": "code",
   "execution_count": 4,
   "id": "85c8001b",
   "metadata": {},
   "outputs": [
    {
     "data": {
      "text/plain": [
       "0        Alfa Romeo\n",
       "1           Ferrari\n",
       "2             Dodge\n",
       "3             Dodge\n",
       "4            Subaru\n",
       "            ...    \n",
       "41139        Subaru\n",
       "41140        Subaru\n",
       "41141        Subaru\n",
       "41142        Subaru\n",
       "41143        Subaru\n",
       "Name: make, Length: 41144, dtype: string"
      ]
     },
     "execution_count": 4,
     "metadata": {},
     "output_type": "execute_result"
    }
   ],
   "source": [
    "make.astype('string')"
   ]
  },
  {
   "cell_type": "code",
   "execution_count": 5,
   "id": "02829aa6",
   "metadata": {},
   "outputs": [
    {
     "data": {
      "text/plain": [
       "0        Alfa Romeo\n",
       "1           Ferrari\n",
       "2             Dodge\n",
       "3             Dodge\n",
       "4            Subaru\n",
       "            ...    \n",
       "41139        Subaru\n",
       "41140        Subaru\n",
       "41141        Subaru\n",
       "41142        Subaru\n",
       "41143        Subaru\n",
       "Name: make, Length: 41144, dtype: category\n",
       "Categories (136, object): ['AM General', 'ASC Incorporated', 'Acura', 'Alfa Romeo', ..., 'Volvo', 'Wallace Environmental', 'Yugo', 'smart']"
      ]
     },
     "execution_count": 5,
     "metadata": {},
     "output_type": "execute_result"
    }
   ],
   "source": [
    "make.astype('category')"
   ]
  },
  {
   "cell_type": "code",
   "execution_count": 6,
   "id": "e5d58954",
   "metadata": {},
   "outputs": [
    {
     "name": "stdout",
     "output_type": "stream",
     "text": [
      "star\n",
      "STAR\n"
     ]
    }
   ],
   "source": [
    "print('STAR'.lower())\n",
    "print('star'.upper())"
   ]
  },
  {
   "cell_type": "code",
   "execution_count": 7,
   "id": "9760b53c",
   "metadata": {},
   "outputs": [
    {
     "data": {
      "text/plain": [
       "0        ALFA ROMEO\n",
       "1           FERRARI\n",
       "2             DODGE\n",
       "3             DODGE\n",
       "4            SUBARU\n",
       "            ...    \n",
       "41139        SUBARU\n",
       "41140        SUBARU\n",
       "41141        SUBARU\n",
       "41142        SUBARU\n",
       "41143        SUBARU\n",
       "Name: make, Length: 41144, dtype: object"
      ]
     },
     "execution_count": 7,
     "metadata": {},
     "output_type": "execute_result"
    }
   ],
   "source": [
    "make.str.upper()"
   ]
  },
  {
   "cell_type": "code",
   "execution_count": 8,
   "id": "05dda105",
   "metadata": {},
   "outputs": [
    {
     "name": "stdout",
     "output_type": "stream",
     "text": [
      "Bruce\n",
      "2\n"
     ]
    }
   ],
   "source": [
    "print('Bruce')\n",
    "print(('Bruce').find('u'))"
   ]
  },
  {
   "cell_type": "code",
   "execution_count": 9,
   "id": "e3cfa890",
   "metadata": {},
   "outputs": [
    {
     "data": {
      "text/plain": [
       "0       -1\n",
       "1       -1\n",
       "2       -1\n",
       "3       -1\n",
       "4        1\n",
       "        ..\n",
       "41139    1\n",
       "41140    1\n",
       "41141    1\n",
       "41142    1\n",
       "41143    1\n",
       "Name: make, Length: 41144, dtype: int64"
      ]
     },
     "execution_count": 9,
     "metadata": {},
     "output_type": "execute_result"
    }
   ],
   "source": [
    "make.str.find('u')"
   ]
  },
  {
   "cell_type": "code",
   "execution_count": 10,
   "id": "d5fd8c02",
   "metadata": {},
   "outputs": [
    {
     "data": {
      "text/plain": [
       "0        A+lfa Romeo\n",
       "1            Ferrari\n",
       "2              Dodge\n",
       "3              Dodge\n",
       "4             Subaru\n",
       "            ...     \n",
       "41139         Subaru\n",
       "41140         Subaru\n",
       "41141         Subaru\n",
       "41142         Subaru\n",
       "41143         Subaru\n",
       "Name: make, Length: 41144, dtype: object"
      ]
     },
     "execution_count": 10,
     "metadata": {},
     "output_type": "execute_result"
    }
   ],
   "source": [
    "make.str.replace('A','A+')"
   ]
  },
  {
   "cell_type": "code",
   "execution_count": 11,
   "id": "b9e4def6",
   "metadata": {},
   "outputs": [
    {
     "data": {
      "text/plain": [
       "0        alfa romeo\n",
       "1           Ferrari\n",
       "2             Dodge\n",
       "3             Dodge\n",
       "4            Subaru\n",
       "            ...    \n",
       "41139        Subaru\n",
       "41140        Subaru\n",
       "41141        Subaru\n",
       "41142        Subaru\n",
       "41143        Subaru\n",
       "Name: make, Length: 41144, dtype: object"
      ]
     },
     "execution_count": 11,
     "metadata": {},
     "output_type": "execute_result"
    }
   ],
   "source": [
    "make.replace({'Audi':'audi','Alfa Romeo':'alfa romeo'})"
   ]
  },
  {
   "cell_type": "markdown",
   "id": "1a10a8d2",
   "metadata": {},
   "source": [
    "# Date and Time Manipulation"
   ]
  },
  {
   "cell_type": "code",
   "execution_count": 12,
   "id": "4d262b78",
   "metadata": {},
   "outputs": [
    {
     "data": {
      "text/html": [
       "<div>\n",
       "<style scoped>\n",
       "    .dataframe tbody tr th:only-of-type {\n",
       "        vertical-align: middle;\n",
       "    }\n",
       "\n",
       "    .dataframe tbody tr th {\n",
       "        vertical-align: top;\n",
       "    }\n",
       "\n",
       "    .dataframe thead th {\n",
       "        text-align: right;\n",
       "    }\n",
       "</style>\n",
       "<table border=\"1\" class=\"dataframe\">\n",
       "  <thead>\n",
       "    <tr style=\"text-align: right;\">\n",
       "      <th></th>\n",
       "      <th>STATION</th>\n",
       "      <th>NAME</th>\n",
       "      <th>LATITUDE</th>\n",
       "      <th>LONGITUDE</th>\n",
       "      <th>ELEVATION</th>\n",
       "      <th>DATE</th>\n",
       "      <th>DAPR</th>\n",
       "      <th>DASF</th>\n",
       "      <th>MDPR</th>\n",
       "      <th>MDSF</th>\n",
       "      <th>...</th>\n",
       "      <th>SNWD</th>\n",
       "      <th>TMAX</th>\n",
       "      <th>TMIN</th>\n",
       "      <th>TOBS</th>\n",
       "      <th>WT01</th>\n",
       "      <th>WT03</th>\n",
       "      <th>WT04</th>\n",
       "      <th>WT05</th>\n",
       "      <th>WT06</th>\n",
       "      <th>WT11</th>\n",
       "    </tr>\n",
       "  </thead>\n",
       "  <tbody>\n",
       "    <tr>\n",
       "      <th>0</th>\n",
       "      <td>USC00420072</td>\n",
       "      <td>ALTA, UT US</td>\n",
       "      <td>40.5905</td>\n",
       "      <td>-111.6369</td>\n",
       "      <td>2660.9</td>\n",
       "      <td>1980-01-01</td>\n",
       "      <td>NaN</td>\n",
       "      <td>NaN</td>\n",
       "      <td>NaN</td>\n",
       "      <td>NaN</td>\n",
       "      <td>...</td>\n",
       "      <td>29.0</td>\n",
       "      <td>38.0</td>\n",
       "      <td>25.0</td>\n",
       "      <td>25.0</td>\n",
       "      <td>NaN</td>\n",
       "      <td>NaN</td>\n",
       "      <td>NaN</td>\n",
       "      <td>NaN</td>\n",
       "      <td>NaN</td>\n",
       "      <td>NaN</td>\n",
       "    </tr>\n",
       "    <tr>\n",
       "      <th>1</th>\n",
       "      <td>USC00420072</td>\n",
       "      <td>ALTA, UT US</td>\n",
       "      <td>40.5905</td>\n",
       "      <td>-111.6369</td>\n",
       "      <td>2660.9</td>\n",
       "      <td>1980-01-02</td>\n",
       "      <td>NaN</td>\n",
       "      <td>NaN</td>\n",
       "      <td>NaN</td>\n",
       "      <td>NaN</td>\n",
       "      <td>...</td>\n",
       "      <td>34.0</td>\n",
       "      <td>27.0</td>\n",
       "      <td>18.0</td>\n",
       "      <td>18.0</td>\n",
       "      <td>NaN</td>\n",
       "      <td>NaN</td>\n",
       "      <td>NaN</td>\n",
       "      <td>NaN</td>\n",
       "      <td>NaN</td>\n",
       "      <td>NaN</td>\n",
       "    </tr>\n",
       "    <tr>\n",
       "      <th>2</th>\n",
       "      <td>USC00420072</td>\n",
       "      <td>ALTA, UT US</td>\n",
       "      <td>40.5905</td>\n",
       "      <td>-111.6369</td>\n",
       "      <td>2660.9</td>\n",
       "      <td>1980-01-03</td>\n",
       "      <td>NaN</td>\n",
       "      <td>NaN</td>\n",
       "      <td>NaN</td>\n",
       "      <td>NaN</td>\n",
       "      <td>...</td>\n",
       "      <td>30.0</td>\n",
       "      <td>27.0</td>\n",
       "      <td>12.0</td>\n",
       "      <td>18.0</td>\n",
       "      <td>NaN</td>\n",
       "      <td>NaN</td>\n",
       "      <td>NaN</td>\n",
       "      <td>NaN</td>\n",
       "      <td>NaN</td>\n",
       "      <td>NaN</td>\n",
       "    </tr>\n",
       "    <tr>\n",
       "      <th>3</th>\n",
       "      <td>USC00420072</td>\n",
       "      <td>ALTA, UT US</td>\n",
       "      <td>40.5905</td>\n",
       "      <td>-111.6369</td>\n",
       "      <td>2660.9</td>\n",
       "      <td>1980-01-04</td>\n",
       "      <td>NaN</td>\n",
       "      <td>NaN</td>\n",
       "      <td>NaN</td>\n",
       "      <td>NaN</td>\n",
       "      <td>...</td>\n",
       "      <td>30.0</td>\n",
       "      <td>31.0</td>\n",
       "      <td>18.0</td>\n",
       "      <td>27.0</td>\n",
       "      <td>NaN</td>\n",
       "      <td>NaN</td>\n",
       "      <td>NaN</td>\n",
       "      <td>NaN</td>\n",
       "      <td>NaN</td>\n",
       "      <td>NaN</td>\n",
       "    </tr>\n",
       "    <tr>\n",
       "      <th>4</th>\n",
       "      <td>USC00420072</td>\n",
       "      <td>ALTA, UT US</td>\n",
       "      <td>40.5905</td>\n",
       "      <td>-111.6369</td>\n",
       "      <td>2660.9</td>\n",
       "      <td>1980-01-05</td>\n",
       "      <td>NaN</td>\n",
       "      <td>NaN</td>\n",
       "      <td>NaN</td>\n",
       "      <td>NaN</td>\n",
       "      <td>...</td>\n",
       "      <td>30.0</td>\n",
       "      <td>34.0</td>\n",
       "      <td>26.0</td>\n",
       "      <td>34.0</td>\n",
       "      <td>NaN</td>\n",
       "      <td>NaN</td>\n",
       "      <td>NaN</td>\n",
       "      <td>NaN</td>\n",
       "      <td>NaN</td>\n",
       "      <td>NaN</td>\n",
       "    </tr>\n",
       "    <tr>\n",
       "      <th>...</th>\n",
       "      <td>...</td>\n",
       "      <td>...</td>\n",
       "      <td>...</td>\n",
       "      <td>...</td>\n",
       "      <td>...</td>\n",
       "      <td>...</td>\n",
       "      <td>...</td>\n",
       "      <td>...</td>\n",
       "      <td>...</td>\n",
       "      <td>...</td>\n",
       "      <td>...</td>\n",
       "      <td>...</td>\n",
       "      <td>...</td>\n",
       "      <td>...</td>\n",
       "      <td>...</td>\n",
       "      <td>...</td>\n",
       "      <td>...</td>\n",
       "      <td>...</td>\n",
       "      <td>...</td>\n",
       "      <td>...</td>\n",
       "      <td>...</td>\n",
       "    </tr>\n",
       "    <tr>\n",
       "      <th>14155</th>\n",
       "      <td>USC00420072</td>\n",
       "      <td>ALTA, UT US</td>\n",
       "      <td>40.5905</td>\n",
       "      <td>-111.6369</td>\n",
       "      <td>2660.9</td>\n",
       "      <td>2019-09-03</td>\n",
       "      <td>NaN</td>\n",
       "      <td>NaN</td>\n",
       "      <td>NaN</td>\n",
       "      <td>NaN</td>\n",
       "      <td>...</td>\n",
       "      <td>0.0</td>\n",
       "      <td>74.0</td>\n",
       "      <td>57.0</td>\n",
       "      <td>73.0</td>\n",
       "      <td>NaN</td>\n",
       "      <td>NaN</td>\n",
       "      <td>NaN</td>\n",
       "      <td>NaN</td>\n",
       "      <td>NaN</td>\n",
       "      <td>NaN</td>\n",
       "    </tr>\n",
       "    <tr>\n",
       "      <th>14156</th>\n",
       "      <td>USC00420072</td>\n",
       "      <td>ALTA, UT US</td>\n",
       "      <td>40.5905</td>\n",
       "      <td>-111.6369</td>\n",
       "      <td>2660.9</td>\n",
       "      <td>2019-09-04</td>\n",
       "      <td>NaN</td>\n",
       "      <td>NaN</td>\n",
       "      <td>NaN</td>\n",
       "      <td>NaN</td>\n",
       "      <td>...</td>\n",
       "      <td>0.0</td>\n",
       "      <td>77.0</td>\n",
       "      <td>52.0</td>\n",
       "      <td>74.0</td>\n",
       "      <td>NaN</td>\n",
       "      <td>NaN</td>\n",
       "      <td>NaN</td>\n",
       "      <td>NaN</td>\n",
       "      <td>NaN</td>\n",
       "      <td>NaN</td>\n",
       "    </tr>\n",
       "    <tr>\n",
       "      <th>14157</th>\n",
       "      <td>USC00420072</td>\n",
       "      <td>ALTA, UT US</td>\n",
       "      <td>40.5905</td>\n",
       "      <td>-111.6369</td>\n",
       "      <td>2660.9</td>\n",
       "      <td>2019-09-05</td>\n",
       "      <td>NaN</td>\n",
       "      <td>NaN</td>\n",
       "      <td>NaN</td>\n",
       "      <td>NaN</td>\n",
       "      <td>...</td>\n",
       "      <td>0.0</td>\n",
       "      <td>76.0</td>\n",
       "      <td>54.0</td>\n",
       "      <td>65.0</td>\n",
       "      <td>NaN</td>\n",
       "      <td>NaN</td>\n",
       "      <td>NaN</td>\n",
       "      <td>NaN</td>\n",
       "      <td>NaN</td>\n",
       "      <td>NaN</td>\n",
       "    </tr>\n",
       "    <tr>\n",
       "      <th>14158</th>\n",
       "      <td>USC00420072</td>\n",
       "      <td>ALTA, UT US</td>\n",
       "      <td>40.5905</td>\n",
       "      <td>-111.6369</td>\n",
       "      <td>2660.9</td>\n",
       "      <td>2019-09-06</td>\n",
       "      <td>NaN</td>\n",
       "      <td>NaN</td>\n",
       "      <td>NaN</td>\n",
       "      <td>NaN</td>\n",
       "      <td>...</td>\n",
       "      <td>0.0</td>\n",
       "      <td>66.0</td>\n",
       "      <td>52.0</td>\n",
       "      <td>60.0</td>\n",
       "      <td>NaN</td>\n",
       "      <td>NaN</td>\n",
       "      <td>NaN</td>\n",
       "      <td>NaN</td>\n",
       "      <td>NaN</td>\n",
       "      <td>NaN</td>\n",
       "    </tr>\n",
       "    <tr>\n",
       "      <th>14159</th>\n",
       "      <td>USC00420072</td>\n",
       "      <td>ALTA, UT US</td>\n",
       "      <td>40.5905</td>\n",
       "      <td>-111.6369</td>\n",
       "      <td>2660.9</td>\n",
       "      <td>2019-09-07</td>\n",
       "      <td>NaN</td>\n",
       "      <td>NaN</td>\n",
       "      <td>NaN</td>\n",
       "      <td>NaN</td>\n",
       "      <td>...</td>\n",
       "      <td>0.0</td>\n",
       "      <td>68.0</td>\n",
       "      <td>45.0</td>\n",
       "      <td>64.0</td>\n",
       "      <td>NaN</td>\n",
       "      <td>NaN</td>\n",
       "      <td>NaN</td>\n",
       "      <td>NaN</td>\n",
       "      <td>NaN</td>\n",
       "      <td>NaN</td>\n",
       "    </tr>\n",
       "  </tbody>\n",
       "</table>\n",
       "<p>14160 rows × 22 columns</p>\n",
       "</div>"
      ],
      "text/plain": [
       "           STATION         NAME  LATITUDE  LONGITUDE  ELEVATION        DATE  \\\n",
       "0      USC00420072  ALTA, UT US   40.5905  -111.6369     2660.9  1980-01-01   \n",
       "1      USC00420072  ALTA, UT US   40.5905  -111.6369     2660.9  1980-01-02   \n",
       "2      USC00420072  ALTA, UT US   40.5905  -111.6369     2660.9  1980-01-03   \n",
       "3      USC00420072  ALTA, UT US   40.5905  -111.6369     2660.9  1980-01-04   \n",
       "4      USC00420072  ALTA, UT US   40.5905  -111.6369     2660.9  1980-01-05   \n",
       "...            ...          ...       ...        ...        ...         ...   \n",
       "14155  USC00420072  ALTA, UT US   40.5905  -111.6369     2660.9  2019-09-03   \n",
       "14156  USC00420072  ALTA, UT US   40.5905  -111.6369     2660.9  2019-09-04   \n",
       "14157  USC00420072  ALTA, UT US   40.5905  -111.6369     2660.9  2019-09-05   \n",
       "14158  USC00420072  ALTA, UT US   40.5905  -111.6369     2660.9  2019-09-06   \n",
       "14159  USC00420072  ALTA, UT US   40.5905  -111.6369     2660.9  2019-09-07   \n",
       "\n",
       "       DAPR  DASF  MDPR  MDSF  ...  SNWD  TMAX  TMIN  TOBS  WT01  WT03  WT04  \\\n",
       "0       NaN   NaN   NaN   NaN  ...  29.0  38.0  25.0  25.0   NaN   NaN   NaN   \n",
       "1       NaN   NaN   NaN   NaN  ...  34.0  27.0  18.0  18.0   NaN   NaN   NaN   \n",
       "2       NaN   NaN   NaN   NaN  ...  30.0  27.0  12.0  18.0   NaN   NaN   NaN   \n",
       "3       NaN   NaN   NaN   NaN  ...  30.0  31.0  18.0  27.0   NaN   NaN   NaN   \n",
       "4       NaN   NaN   NaN   NaN  ...  30.0  34.0  26.0  34.0   NaN   NaN   NaN   \n",
       "...     ...   ...   ...   ...  ...   ...   ...   ...   ...   ...   ...   ...   \n",
       "14155   NaN   NaN   NaN   NaN  ...   0.0  74.0  57.0  73.0   NaN   NaN   NaN   \n",
       "14156   NaN   NaN   NaN   NaN  ...   0.0  77.0  52.0  74.0   NaN   NaN   NaN   \n",
       "14157   NaN   NaN   NaN   NaN  ...   0.0  76.0  54.0  65.0   NaN   NaN   NaN   \n",
       "14158   NaN   NaN   NaN   NaN  ...   0.0  66.0  52.0  60.0   NaN   NaN   NaN   \n",
       "14159   NaN   NaN   NaN   NaN  ...   0.0  68.0  45.0  64.0   NaN   NaN   NaN   \n",
       "\n",
       "       WT05  WT06  WT11  \n",
       "0       NaN   NaN   NaN  \n",
       "1       NaN   NaN   NaN  \n",
       "2       NaN   NaN   NaN  \n",
       "3       NaN   NaN   NaN  \n",
       "4       NaN   NaN   NaN  \n",
       "...     ...   ...   ...  \n",
       "14155   NaN   NaN   NaN  \n",
       "14156   NaN   NaN   NaN  \n",
       "14157   NaN   NaN   NaN  \n",
       "14158   NaN   NaN   NaN  \n",
       "14159   NaN   NaN   NaN  \n",
       "\n",
       "[14160 rows x 22 columns]"
      ]
     },
     "execution_count": 12,
     "metadata": {},
     "output_type": "execute_result"
    }
   ],
   "source": [
    "alta_data=pd.read_csv('data/alta-noaa-1980-2019.csv')\n",
    "alta_data"
   ]
  },
  {
   "cell_type": "code",
   "execution_count": 13,
   "id": "55c83599",
   "metadata": {},
   "outputs": [
    {
     "data": {
      "text/plain": [
       "Index(['STATION', 'NAME', 'LATITUDE', 'LONGITUDE', 'ELEVATION', 'DATE', 'DAPR',\n",
       "       'DASF', 'MDPR', 'MDSF', 'PRCP', 'SNOW', 'SNWD', 'TMAX', 'TMIN', 'TOBS',\n",
       "       'WT01', 'WT03', 'WT04', 'WT05', 'WT06', 'WT11'],\n",
       "      dtype='object')"
      ]
     },
     "execution_count": 13,
     "metadata": {},
     "output_type": "execute_result"
    }
   ],
   "source": [
    "alta_data.columns"
   ]
  },
  {
   "cell_type": "code",
   "execution_count": 14,
   "id": "15edcb34",
   "metadata": {},
   "outputs": [
    {
     "data": {
      "text/plain": [
       "0       1980-01-01\n",
       "1       1980-01-02\n",
       "2       1980-01-03\n",
       "3       1980-01-04\n",
       "4       1980-01-05\n",
       "           ...    \n",
       "14155   2019-09-03\n",
       "14156   2019-09-04\n",
       "14157   2019-09-05\n",
       "14158   2019-09-06\n",
       "14159   2019-09-07\n",
       "Name: DATE, Length: 14160, dtype: datetime64[ns]"
      ]
     },
     "execution_count": 14,
     "metadata": {},
     "output_type": "execute_result"
    }
   ],
   "source": [
    "dates=pd.to_datetime(alta_data.DATE)\n",
    "dates"
   ]
  },
  {
   "cell_type": "code",
   "execution_count": 15,
   "id": "afa20c2b",
   "metadata": {},
   "outputs": [
    {
     "data": {
      "text/plain": [
       "0          Tuesday\n",
       "1        Wednesday\n",
       "2         Thursday\n",
       "3           Friday\n",
       "4         Saturday\n",
       "           ...    \n",
       "14155      Tuesday\n",
       "14156    Wednesday\n",
       "14157     Thursday\n",
       "14158       Friday\n",
       "14159     Saturday\n",
       "Name: DATE, Length: 14160, dtype: object"
      ]
     },
     "execution_count": 15,
     "metadata": {},
     "output_type": "execute_result"
    }
   ],
   "source": [
    "dates.dt.day_name()"
   ]
  },
  {
   "cell_type": "code",
   "execution_count": 16,
   "id": "205fed7b",
   "metadata": {},
   "outputs": [
    {
     "data": {
      "text/plain": [
       "0        01/01/80\n",
       "1        02/01/80\n",
       "2        03/01/80\n",
       "3        04/01/80\n",
       "4        05/01/80\n",
       "           ...   \n",
       "14155    03/09/19\n",
       "14156    04/09/19\n",
       "14157    05/09/19\n",
       "14158    06/09/19\n",
       "14159    07/09/19\n",
       "Name: DATE, Length: 14160, dtype: object"
      ]
     },
     "execution_count": 16,
     "metadata": {},
     "output_type": "execute_result"
    }
   ],
   "source": [
    "dates.dt.strftime('%d/%m/%y')"
   ]
  },
  {
   "cell_type": "markdown",
   "id": "1f5d1336",
   "metadata": {},
   "source": [
    "# Dates in the Index"
   ]
  },
  {
   "cell_type": "code",
   "execution_count": 17,
   "id": "c7f9c857",
   "metadata": {},
   "outputs": [
    {
     "data": {
      "text/plain": [
       "1980-01-01    2.0\n",
       "1980-01-02    3.0\n",
       "1980-01-03    1.0\n",
       "1980-01-04    0.0\n",
       "1980-01-05    0.0\n",
       "             ... \n",
       "2019-09-03    0.0\n",
       "2019-09-04    0.0\n",
       "2019-09-05    0.0\n",
       "2019-09-06    0.0\n",
       "2019-09-07    0.0\n",
       "Name: SNOW, Length: 14160, dtype: float64"
      ]
     },
     "execution_count": 17,
     "metadata": {},
     "output_type": "execute_result"
    }
   ],
   "source": [
    "# change index to date \n",
    "snow=(alta_data.SNOW.rename(dates))\n",
    "snow"
   ]
  },
  {
   "cell_type": "code",
   "execution_count": 18,
   "id": "27613997",
   "metadata": {},
   "outputs": [
    {
     "data": {
      "text/plain": [
       "1980-01-01    False\n",
       "1980-01-02    False\n",
       "1980-01-03    False\n",
       "1980-01-04    False\n",
       "1980-01-05    False\n",
       "              ...  \n",
       "2019-09-03    False\n",
       "2019-09-04    False\n",
       "2019-09-05    False\n",
       "2019-09-06    False\n",
       "2019-09-07    False\n",
       "Name: SNOW, Length: 14160, dtype: bool"
      ]
     },
     "execution_count": 18,
     "metadata": {},
     "output_type": "execute_result"
    }
   ],
   "source": [
    "# finding missing data\n",
    "snow.isna()"
   ]
  },
  {
   "cell_type": "code",
   "execution_count": 19,
   "id": "5c98ec8d",
   "metadata": {},
   "outputs": [
    {
     "data": {
      "text/plain": [
       "1985-07-30   NaN\n",
       "1985-09-12   NaN\n",
       "1985-09-19   NaN\n",
       "1986-02-07   NaN\n",
       "1986-06-26   NaN\n",
       "              ..\n",
       "2017-04-26   NaN\n",
       "2017-09-20   NaN\n",
       "2017-10-02   NaN\n",
       "2017-12-23   NaN\n",
       "2018-12-03   NaN\n",
       "Name: SNOW, Length: 365, dtype: float64"
      ]
     },
     "execution_count": 19,
     "metadata": {},
     "output_type": "execute_result"
    }
   ],
   "source": [
    "snow[snow.isna()]"
   ]
  },
  {
   "cell_type": "code",
   "execution_count": 20,
   "id": "87e756f9",
   "metadata": {},
   "outputs": [
    {
     "data": {
      "text/plain": [
       "1985-09-01    0.0\n",
       "1985-09-02    0.0\n",
       "1985-09-03    0.0\n",
       "1985-09-04    0.0\n",
       "1985-09-05    0.0\n",
       "1985-09-06    0.0\n",
       "1985-09-07    0.0\n",
       "1985-09-08    0.0\n",
       "1985-09-09    0.0\n",
       "1985-09-10    0.0\n",
       "1985-09-11    0.0\n",
       "1985-09-12    NaN\n",
       "1985-09-13    0.0\n",
       "1985-09-14    0.0\n",
       "1985-09-15    0.0\n",
       "1985-09-16    0.0\n",
       "1985-09-17    0.0\n",
       "1985-09-18    0.0\n",
       "1985-09-19    NaN\n",
       "1985-09-20    0.0\n",
       "Name: SNOW, dtype: float64"
      ]
     },
     "execution_count": 20,
     "metadata": {},
     "output_type": "execute_result"
    }
   ],
   "source": [
    "snow.loc['1985-09':'1985-09-20']"
   ]
  },
  {
   "cell_type": "code",
   "execution_count": 21,
   "id": "b8ba6f14",
   "metadata": {},
   "outputs": [
    {
     "data": {
      "text/plain": [
       "1985-09-01    0.0\n",
       "1985-09-02    0.0\n",
       "1985-09-03    0.0\n",
       "1985-09-04    0.0\n",
       "1985-09-05    0.0\n",
       "1985-09-06    0.0\n",
       "1985-09-07    0.0\n",
       "1985-09-08    0.0\n",
       "1985-09-09    0.0\n",
       "1985-09-10    0.0\n",
       "1985-09-11    0.0\n",
       "1985-09-12    0.0\n",
       "1985-09-13    0.0\n",
       "1985-09-14    0.0\n",
       "1985-09-15    0.0\n",
       "1985-09-16    0.0\n",
       "1985-09-17    0.0\n",
       "1985-09-18    0.0\n",
       "1985-09-19    0.0\n",
       "1985-09-20    0.0\n",
       "Name: SNOW, dtype: float64"
      ]
     },
     "execution_count": 21,
     "metadata": {},
     "output_type": "execute_result"
    }
   ],
   "source": [
    "# filling in missing data\n",
    "snow.loc['1985-09':'1985-09-20'].fillna(0)"
   ]
  },
  {
   "cell_type": "markdown",
   "id": "8902849e",
   "metadata": {},
   "source": [
    "## forward fill and backward fill"
   ]
  },
  {
   "cell_type": "code",
   "execution_count": 22,
   "id": "d65f3856",
   "metadata": {},
   "outputs": [
    {
     "data": {
      "text/plain": [
       "1987-12-30    6.0\n",
       "1987-12-31    5.0\n",
       "1988-01-01    5.0\n",
       "1988-01-02    0.0\n",
       "1988-01-03    0.0\n",
       "1988-01-04    0.0\n",
       "1988-01-05    2.0\n",
       "1988-01-06    6.0\n",
       "1988-01-07    4.0\n",
       "1988-01-08    9.0\n",
       "1988-01-09    5.0\n",
       "1988-01-10    2.0\n",
       "Name: SNOW, dtype: float64"
      ]
     },
     "execution_count": 22,
     "metadata": {},
     "output_type": "execute_result"
    }
   ],
   "source": [
    "snow.loc['1987-12-30':'1988-01-10'].ffill()"
   ]
  },
  {
   "cell_type": "code",
   "execution_count": 23,
   "id": "f2a0c0d4",
   "metadata": {},
   "outputs": [
    {
     "data": {
      "text/plain": [
       "1987-12-30    6.0\n",
       "1987-12-31    5.0\n",
       "1988-01-01    0.0\n",
       "1988-01-02    0.0\n",
       "1988-01-03    0.0\n",
       "1988-01-04    2.0\n",
       "1988-01-05    2.0\n",
       "1988-01-06    6.0\n",
       "1988-01-07    4.0\n",
       "1988-01-08    9.0\n",
       "1988-01-09    5.0\n",
       "1988-01-10    2.0\n",
       "Name: SNOW, dtype: float64"
      ]
     },
     "execution_count": 23,
     "metadata": {},
     "output_type": "execute_result"
    }
   ],
   "source": [
    "snow.loc['1987-12-30':'1988-01-10'].bfill()"
   ]
  },
  {
   "cell_type": "code",
   "execution_count": 24,
   "id": "f349510c",
   "metadata": {},
   "outputs": [
    {
     "data": {
      "text/plain": [
       "1987-12-30    6.0\n",
       "1987-12-31    5.0\n",
       "1988-01-01    2.5\n",
       "1988-01-02    0.0\n",
       "1988-01-03    0.0\n",
       "1988-01-04    1.0\n",
       "1988-01-05    2.0\n",
       "1988-01-06    6.0\n",
       "1988-01-07    4.0\n",
       "1988-01-08    9.0\n",
       "1988-01-09    5.0\n",
       "1988-01-10    2.0\n",
       "Name: SNOW, dtype: float64"
      ]
     },
     "execution_count": 24,
     "metadata": {},
     "output_type": "execute_result"
    }
   ],
   "source": [
    "# interpolate\n",
    "snow.loc['1987-12-30':'1988-01-10'].interpolate()"
   ]
  },
  {
   "cell_type": "code",
   "execution_count": 25,
   "id": "41d48515",
   "metadata": {},
   "outputs": [
    {
     "data": {
      "text/plain": [
       "3    3575\n",
       "1    3544\n",
       "2    3539\n",
       "4    3502\n",
       "dtype: int64"
      ]
     },
     "execution_count": 25,
     "metadata": {},
     "output_type": "execute_result"
    }
   ],
   "source": [
    "snow.index.quarter.value_counts()"
   ]
  },
  {
   "cell_type": "code",
   "execution_count": 26,
   "id": "1b64337a",
   "metadata": {},
   "outputs": [
    {
     "data": {
      "text/plain": [
       "array([ True,  True,  True, ..., False, False, False])"
      ]
     },
     "execution_count": 26,
     "metadata": {},
     "output_type": "execute_result"
    }
   ],
   "source": [
    "winter=(snow.index.quarter==1)|(snow.index.quarter==4)\n",
    "winter"
   ]
  },
  {
   "cell_type": "code",
   "execution_count": 27,
   "id": "e978974e",
   "metadata": {},
   "outputs": [
    {
     "data": {
      "text/plain": [
       "1980-01-01    2.0\n",
       "1980-01-02    3.0\n",
       "1980-01-03    1.0\n",
       "1980-01-04    0.0\n",
       "1980-01-05    0.0\n",
       "             ... \n",
       "2019-09-03    0.0\n",
       "2019-09-04    0.0\n",
       "2019-09-05    0.0\n",
       "2019-09-06    0.0\n",
       "2019-09-07    0.0\n",
       "Name: SNOW, Length: 14160, dtype: float64"
      ]
     },
     "execution_count": 27,
     "metadata": {},
     "output_type": "execute_result"
    }
   ],
   "source": [
    "(snow.where(~(winter & snow.isna()), snow.interpolate())\n",
    ".where(~(~winter & snow.isna()),0)\n",
    ")"
   ]
  },
  {
   "cell_type": "code",
   "execution_count": 28,
   "id": "2a28f9b0",
   "metadata": {},
   "outputs": [
    {
     "data": {
      "text/plain": [
       "1985-01-01    9.0\n",
       "1986-01-01    0.0\n",
       "Name: SNOW, dtype: float64"
      ]
     },
     "execution_count": 28,
     "metadata": {},
     "output_type": "execute_result"
    }
   ],
   "source": [
    "(snow.where(~(winter & snow.isna()), snow.interpolate())\n",
    ".where(~(~winter & snow.isna()),0)\n",
    ").loc[['1985','1986']]"
   ]
  },
  {
   "cell_type": "markdown",
   "id": "e22f9bcf",
   "metadata": {},
   "source": [
    "## Dropping Missing Values"
   ]
  },
  {
   "cell_type": "code",
   "execution_count": 29,
   "id": "24998dcb",
   "metadata": {},
   "outputs": [
    {
     "data": {
      "text/plain": [
       "1987-01-01     0.0\n",
       "1987-01-02    16.0\n",
       "1987-01-03     0.0\n",
       "1987-01-04     9.0\n",
       "1987-01-05    11.5\n",
       "              ... \n",
       "2000-12-27     0.0\n",
       "2000-12-28     0.0\n",
       "2000-12-29     0.0\n",
       "2000-12-30     0.0\n",
       "2000-12-31     0.0\n",
       "Name: SNOW, Length: 4939, dtype: float64"
      ]
     },
     "execution_count": 29,
     "metadata": {},
     "output_type": "execute_result"
    }
   ],
   "source": [
    "snow.loc['1987':'2000'].dropna()"
   ]
  },
  {
   "cell_type": "markdown",
   "id": "9c3b9501",
   "metadata": {},
   "source": [
    "# Shifting Data"
   ]
  },
  {
   "cell_type": "code",
   "execution_count": 30,
   "id": "d7d2f46d",
   "metadata": {},
   "outputs": [
    {
     "data": {
      "text/plain": [
       "1980-01-01    NaN\n",
       "1980-01-02    2.0\n",
       "1980-01-03    3.0\n",
       "1980-01-04    1.0\n",
       "1980-01-05    0.0\n",
       "             ... \n",
       "2019-09-03    0.0\n",
       "2019-09-04    0.0\n",
       "2019-09-05    0.0\n",
       "2019-09-06    0.0\n",
       "2019-09-07    0.0\n",
       "Name: SNOW, Length: 14160, dtype: float64"
      ]
     },
     "execution_count": 30,
     "metadata": {},
     "output_type": "execute_result"
    }
   ],
   "source": [
    "snow.shift(1)"
   ]
  },
  {
   "cell_type": "code",
   "execution_count": 31,
   "id": "ddec0e69",
   "metadata": {},
   "outputs": [
    {
     "data": {
      "text/plain": [
       "1980-01-01    3.0\n",
       "1980-01-02    1.0\n",
       "1980-01-03    0.0\n",
       "1980-01-04    0.0\n",
       "1980-01-05    1.0\n",
       "             ... \n",
       "2019-09-03    0.0\n",
       "2019-09-04    0.0\n",
       "2019-09-05    0.0\n",
       "2019-09-06    0.0\n",
       "2019-09-07    NaN\n",
       "Name: SNOW, Length: 14160, dtype: float64"
      ]
     },
     "execution_count": 31,
     "metadata": {},
     "output_type": "execute_result"
    }
   ],
   "source": [
    "snow.shift(-1)"
   ]
  },
  {
   "cell_type": "markdown",
   "id": "e719cb65",
   "metadata": {},
   "source": [
    "# Rolling Average"
   ]
  },
  {
   "cell_type": "code",
   "execution_count": 32,
   "id": "f69c46b0",
   "metadata": {},
   "outputs": [
    {
     "data": {
      "text/plain": [
       "1980-01-01    NaN\n",
       "1980-01-02    NaN\n",
       "1980-01-03    NaN\n",
       "1980-01-04    NaN\n",
       "1980-01-05    1.2\n",
       "             ... \n",
       "2019-09-03    0.0\n",
       "2019-09-04    0.0\n",
       "2019-09-05    0.0\n",
       "2019-09-06    0.0\n",
       "2019-09-07    0.0\n",
       "Name: SNOW, Length: 14160, dtype: float64"
      ]
     },
     "execution_count": 32,
     "metadata": {},
     "output_type": "execute_result"
    }
   ],
   "source": [
    "snow.add(snow.shift(1)).add(snow.shift(2)).add(snow.shift(3)).add(snow.shift(4)).div(5)"
   ]
  },
  {
   "cell_type": "code",
   "execution_count": 33,
   "id": "a714b7a6",
   "metadata": {},
   "outputs": [
    {
     "data": {
      "text/plain": [
       "1980-01-01    NaN\n",
       "1980-01-02    NaN\n",
       "1980-01-03    NaN\n",
       "1980-01-04    NaN\n",
       "1980-01-05    1.2\n",
       "             ... \n",
       "2019-09-03    0.0\n",
       "2019-09-04    0.0\n",
       "2019-09-05    0.0\n",
       "2019-09-06    0.0\n",
       "2019-09-07    0.0\n",
       "Name: SNOW, Length: 14160, dtype: float64"
      ]
     },
     "execution_count": 33,
     "metadata": {},
     "output_type": "execute_result"
    }
   ],
   "source": [
    "snow.rolling(5).mean()"
   ]
  },
  {
   "cell_type": "markdown",
   "id": "417b9022",
   "metadata": {},
   "source": [
    "# Resampling"
   ]
  },
  {
   "cell_type": "code",
   "execution_count": 34,
   "id": "f7fea7c1",
   "metadata": {},
   "outputs": [
    {
     "data": {
      "text/plain": [
       "1980-12-31    25.0\n",
       "1981-12-31    34.0\n",
       "1982-12-31    38.0\n",
       "1983-12-31    31.0\n",
       "1984-12-31    25.0\n",
       "1985-12-31    34.0\n",
       "1986-12-31    22.0\n",
       "1987-12-31    16.0\n",
       "1988-12-31    30.0\n",
       "1989-12-31    22.0\n",
       "1990-12-31    32.0\n",
       "1991-12-31    28.0\n",
       "1992-12-31    30.0\n",
       "1993-12-31    29.0\n",
       "1994-12-31    36.0\n",
       "1995-12-31    22.0\n",
       "1996-12-31    34.0\n",
       "1997-12-31    29.0\n",
       "1998-12-31    20.0\n",
       "1999-12-31    26.0\n",
       "2000-12-31    23.0\n",
       "2001-12-31    28.0\n",
       "2002-12-31    24.0\n",
       "2003-12-31    24.0\n",
       "2004-12-31    25.0\n",
       "2005-12-31    31.0\n",
       "2006-12-31    20.0\n",
       "2007-12-31    16.0\n",
       "2008-12-31    23.0\n",
       "2009-12-31    24.0\n",
       "2010-12-31    32.0\n",
       "2011-12-31    22.0\n",
       "2012-12-31    19.0\n",
       "2013-12-31    18.0\n",
       "2014-12-31    18.0\n",
       "2015-12-31    25.0\n",
       "2016-12-31    15.3\n",
       "2017-12-31    26.0\n",
       "2018-12-31    21.8\n",
       "2019-12-31    20.7\n",
       "Freq: A-DEC, Name: SNOW, dtype: float64"
      ]
     },
     "execution_count": 34,
     "metadata": {},
     "output_type": "execute_result"
    }
   ],
   "source": [
    "snow.resample('y').max()\n",
    "# maximum snow fall by year\n",
    "# M --> Month / Y--->Year"
   ]
  },
  {
   "cell_type": "code",
   "execution_count": 35,
   "id": "612ca5ca",
   "metadata": {},
   "outputs": [
    {
     "data": {
      "text/plain": [
       "<AxesSubplot:>"
      ]
     },
     "execution_count": 35,
     "metadata": {},
     "output_type": "execute_result"
    },
    {
     "data": {
      "image/png": "[encoded data removed]",
      "text/plain": [
       "<Figure size 640x480 with 1 Axes>"
      ]
     },
     "metadata": {},
     "output_type": "display_data"
    }
   ],
   "source": [
    "snow.resample('y').max().plot()"
   ]
  },
  {
   "cell_type": "code",
   "execution_count": 36,
   "id": "783af182",
   "metadata": {},
   "outputs": [
    {
     "data": {
      "text/plain": [
       "1980-01-31    20.0\n",
       "1980-03-31    25.0\n",
       "1980-05-31    10.0\n",
       "1980-07-31     1.0\n",
       "1980-09-30     0.0\n",
       "1980-11-30    12.0\n",
       "1981-01-31    26.0\n",
       "1981-03-31    21.0\n",
       "1981-05-31    17.0\n",
       "1981-07-31     6.0\n",
       "1981-09-30     0.0\n",
       "1981-11-30    22.0\n",
       "1982-01-31    34.0\n",
       "1982-03-31    19.0\n",
       "1982-05-31    18.0\n",
       "1982-07-31     5.0\n",
       "1982-09-30    15.0\n",
       "1982-11-30    16.0\n",
       "1983-01-31    38.0\n",
       "1983-03-31    31.0\n",
       "Freq: 2M, Name: SNOW, dtype: float64"
      ]
     },
     "execution_count": 36,
     "metadata": {},
     "output_type": "execute_result"
    }
   ],
   "source": [
    "# the end of every two months---> 2M\n",
    "snow.resample('2M').max().head(20)"
   ]
  },
  {
   "cell_type": "code",
   "execution_count": 37,
   "id": "cd7379eb",
   "metadata": {},
   "outputs": [
    {
     "data": {
      "text/plain": [
       "1980-01-31    20.0\n",
       "1981-01-31    26.0\n",
       "1982-01-31    34.0\n",
       "1983-01-31    38.0\n",
       "1984-01-31    31.0\n",
       "1985-01-31    25.0\n",
       "1986-01-31    34.0\n",
       "1987-01-31    22.0\n",
       "1988-01-31    13.0\n",
       "1989-01-31    30.0\n",
       "1990-01-31    22.0\n",
       "1991-01-31    32.0\n",
       "1992-01-31    28.0\n",
       "1993-01-31    30.0\n",
       "1994-01-31    36.0\n",
       "1995-01-31    25.0\n",
       "1996-01-31    34.0\n",
       "1997-01-31    26.0\n",
       "1998-01-31    29.0\n",
       "1999-01-31    26.0\n",
       "2000-01-31    18.0\n",
       "2001-01-31    23.0\n",
       "2002-01-31    28.0\n",
       "2003-01-31    24.0\n",
       "2004-01-31    24.0\n",
       "2005-01-31    25.0\n",
       "2006-01-31    31.0\n",
       "2007-01-31    20.0\n",
       "2008-01-31    21.0\n",
       "2009-01-31    23.0\n",
       "2010-01-31    24.0\n",
       "2011-01-31    32.0\n",
       "2012-01-31    22.0\n",
       "2013-01-31    19.0\n",
       "2014-01-31    18.0\n",
       "2015-01-31    18.0\n",
       "2016-01-31    25.0\n",
       "2017-01-31    26.0\n",
       "2018-01-31    23.5\n",
       "2019-01-31    21.8\n",
       "2020-01-31    20.7\n",
       "Freq: A-JAN, Name: SNOW, dtype: float64"
      ]
     },
     "execution_count": 37,
     "metadata": {},
     "output_type": "execute_result"
    }
   ],
   "source": [
    "# annual grouping('A') but ending in  january of each year\n",
    "snow.resample('A-jan').max()"
   ]
  }
 ],
 "metadata": {
  "kernelspec": {
   "display_name": "Python 3 (ipykernel)",
   "language": "python",
   "name": "python3"
  },
  "language_info": {
   "codemirror_mode": {
    "name": "ipython",
    "version": 3
   },
   "file_extension": ".py",
   "mimetype": "text/x-python",
   "name": "python",
   "nbconvert_exporter": "python",
   "pygments_lexer": "ipython3",
   "version": "3.9.15"
  }
 },
 "nbformat": 4,
 "nbformat_minor": 5
}
