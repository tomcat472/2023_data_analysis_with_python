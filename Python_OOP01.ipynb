{
 "cells": [
  {
   "cell_type": "markdown",
   "id": "206904c8",
   "metadata": {},
   "source": [
    "# First Class"
   ]
  },
  {
   "cell_type": "code",
   "execution_count": 1,
   "id": "004ff80f",
   "metadata": {},
   "outputs": [],
   "source": [
    "class Person:\n",
    "    town='Katha'\n",
    "    married=False\n",
    "    \n",
    "    def __init__(self,name,age):\n",
    "        self.name=name\n",
    "        self.age=age\n",
    "    \n",
    "    def run(self):\n",
    "        return f'{self.name} can run.'"
   ]
  },
  {
   "cell_type": "code",
   "execution_count": 2,
   "id": "0c3adf6f",
   "metadata": {},
   "outputs": [],
   "source": [
    "m1=Person('Tom',23)\n",
    "m2=Person('Jack',25)"
   ]
  },
  {
   "cell_type": "code",
   "execution_count": 3,
   "id": "d89c24c7",
   "metadata": {},
   "outputs": [
    {
     "data": {
      "text/plain": [
       "mappingproxy({'__module__': '__main__',\n",
       "              'town': 'Katha',\n",
       "              'married': False,\n",
       "              '__init__': <function __main__.Person.__init__(self, name, age)>,\n",
       "              'run': <function __main__.Person.run(self)>,\n",
       "              '__dict__': <attribute '__dict__' of 'Person' objects>,\n",
       "              '__weakref__': <attribute '__weakref__' of 'Person' objects>,\n",
       "              '__doc__': None})"
      ]
     },
     "execution_count": 3,
     "metadata": {},
     "output_type": "execute_result"
    }
   ],
   "source": [
    "Person.__dict__"
   ]
  },
  {
   "cell_type": "code",
   "execution_count": 4,
   "id": "49555aab",
   "metadata": {},
   "outputs": [
    {
     "data": {
      "text/plain": [
       "{'name': 'Tom', 'age': 23}"
      ]
     },
     "execution_count": 4,
     "metadata": {},
     "output_type": "execute_result"
    }
   ],
   "source": [
    "m1.__dict__"
   ]
  },
  {
   "cell_type": "code",
   "execution_count": 5,
   "id": "f48fe8d3",
   "metadata": {},
   "outputs": [
    {
     "data": {
      "text/plain": [
       "object"
      ]
     },
     "execution_count": 5,
     "metadata": {},
     "output_type": "execute_result"
    }
   ],
   "source": [
    "Person.__base__"
   ]
  },
  {
   "cell_type": "code",
   "execution_count": 6,
   "id": "c049fbe6",
   "metadata": {},
   "outputs": [
    {
     "data": {
      "text/plain": [
       "(type, __main__.Person)"
      ]
     },
     "execution_count": 6,
     "metadata": {},
     "output_type": "execute_result"
    }
   ],
   "source": [
    "type(Person),type(m1)"
   ]
  },
  {
   "cell_type": "code",
   "execution_count": 7,
   "id": "e6131d1d",
   "metadata": {},
   "outputs": [
    {
     "name": "stdout",
     "output_type": "stream",
     "text": [
      "Tom can run. and Jack can run.\n"
     ]
    }
   ],
   "source": [
    "print(m1.run(),'and',m2.run())"
   ]
  },
  {
   "cell_type": "markdown",
   "id": "2b69f819",
   "metadata": {},
   "source": [
    "# getattr()/ setattr()"
   ]
  },
  {
   "cell_type": "raw",
   "id": "8fe3fac0",
   "metadata": {},
   "source": [
    "getattr(obj_name,\"obj_attribute\")\n",
    "\n",
    "setattr(obj_name,\"obj_attribute\",new_value)"
   ]
  },
  {
   "cell_type": "code",
   "execution_count": 8,
   "id": "34577a2f",
   "metadata": {},
   "outputs": [
    {
     "data": {
      "text/plain": [
       "{'name': 'Tom', 'age': 23}"
      ]
     },
     "execution_count": 8,
     "metadata": {},
     "output_type": "execute_result"
    }
   ],
   "source": [
    "m1.__dict__"
   ]
  },
  {
   "cell_type": "code",
   "execution_count": 9,
   "id": "63a88360",
   "metadata": {},
   "outputs": [
    {
     "data": {
      "text/plain": [
       "'Tom'"
      ]
     },
     "execution_count": 9,
     "metadata": {},
     "output_type": "execute_result"
    }
   ],
   "source": [
    "getattr(m1,'name')\n"
   ]
  },
  {
   "cell_type": "code",
   "execution_count": 10,
   "id": "2f67d03c",
   "metadata": {},
   "outputs": [
    {
     "data": {
      "text/plain": [
       "25"
      ]
     },
     "execution_count": 10,
     "metadata": {},
     "output_type": "execute_result"
    }
   ],
   "source": [
    "getattr(m2,'age')"
   ]
  },
  {
   "cell_type": "code",
   "execution_count": 11,
   "id": "5dacb0f6",
   "metadata": {},
   "outputs": [
    {
     "name": "stdout",
     "output_type": "stream",
     "text": [
      "Tom\n",
      "25\n"
     ]
    }
   ],
   "source": [
    "print(m1.name)\n",
    "print(m2.age)"
   ]
  },
  {
   "cell_type": "code",
   "execution_count": 12,
   "id": "d50db9b5",
   "metadata": {},
   "outputs": [],
   "source": [
    "m3=Person('Hank',24)\n",
    "setattr(m3,\"name\",\"Ben\")"
   ]
  },
  {
   "cell_type": "code",
   "execution_count": 13,
   "id": "dfbd6fcf",
   "metadata": {},
   "outputs": [
    {
     "data": {
      "text/plain": [
       "{'name': 'Ben', 'age': 24}"
      ]
     },
     "execution_count": 13,
     "metadata": {},
     "output_type": "execute_result"
    }
   ],
   "source": [
    "m3.__dict__"
   ]
  },
  {
   "cell_type": "markdown",
   "id": "507dbbbb",
   "metadata": {},
   "source": [
    "# Example"
   ]
  },
  {
   "cell_type": "code",
   "execution_count": 14,
   "id": "8e39cd0e",
   "metadata": {},
   "outputs": [],
   "source": [
    "objs=[m1,m2]\n",
    "attribs=['name','age']\n",
    "values=['Tom',12]\n",
    "for obj in objs:\n",
    "    for attrib,value in zip(attribs,values):\n",
    "        setattr(obj,attrib,value)"
   ]
  },
  {
   "cell_type": "code",
   "execution_count": 15,
   "id": "58539f2a",
   "metadata": {},
   "outputs": [
    {
     "data": {
      "text/plain": [
       "'Tom'"
      ]
     },
     "execution_count": 15,
     "metadata": {},
     "output_type": "execute_result"
    }
   ],
   "source": [
    "m1.name"
   ]
  },
  {
   "cell_type": "code",
   "execution_count": 16,
   "id": "a8eee9ec",
   "metadata": {},
   "outputs": [
    {
     "data": {
      "text/plain": [
       "'Tom'"
      ]
     },
     "execution_count": 16,
     "metadata": {},
     "output_type": "execute_result"
    }
   ],
   "source": [
    "m2.name"
   ]
  },
  {
   "cell_type": "code",
   "execution_count": 17,
   "id": "0c301c6b",
   "metadata": {},
   "outputs": [
    {
     "data": {
      "text/plain": [
       "[('name', 'Tom'), ('age', 12)]"
      ]
     },
     "execution_count": 17,
     "metadata": {},
     "output_type": "execute_result"
    }
   ],
   "source": [
    "list(zip(attribs,values))"
   ]
  },
  {
   "cell_type": "code",
   "execution_count": 18,
   "id": "5c3c24d8",
   "metadata": {},
   "outputs": [
    {
     "name": "stdout",
     "output_type": "stream",
     "text": [
      "Tom\n"
     ]
    }
   ],
   "source": [
    "try:\n",
    "    print(m2.name)\n",
    "except AttributeError as e:\n",
    "    print(e)"
   ]
  },
  {
   "cell_type": "markdown",
   "id": "48bf3457",
   "metadata": {},
   "source": [
    "# Exercise"
   ]
  },
  {
   "cell_type": "code",
   "execution_count": 19,
   "id": "6f7deec9",
   "metadata": {},
   "outputs": [
    {
     "data": {
      "text/plain": [
       "<bound method Random.choice of <random.Random object at 0x000001F3532AB690>>"
      ]
     },
     "execution_count": 19,
     "metadata": {},
     "output_type": "execute_result"
    }
   ],
   "source": [
    "import random\n",
    "random.choice"
   ]
  },
  {
   "cell_type": "code",
   "execution_count": 20,
   "id": "85957ed8",
   "metadata": {},
   "outputs": [
    {
     "name": "stdout",
     "output_type": "stream",
     "text": [
      "Hi, oh, my name is Alice\n",
      "Hi, oh, my name is Brain\n",
      "Hey there, my name is Clayton\n",
      "Hi, oh, my name is Jack\n",
      "Hi, oh, my name is Tom\n"
     ]
    }
   ],
   "source": [
    "class Student:\n",
    "    educational_platform='Udemy'\n",
    "    \n",
    "    def __init__(self,name,age=34):\n",
    "        self.name=name\n",
    "        self.age=age\n",
    "    \n",
    "    def greet(self):\n",
    "        _greetings=[\n",
    "            \"Hi, I'm {}\",\n",
    "            \"Hey there, my name is {}\",\n",
    "            \"Hi, oh, my name is {}\"\n",
    "        ]\n",
    "        greeting=random.choice(_greetings)\n",
    "        return greeting.format(self.name)\n",
    "    \n",
    "def class_create(student_names):\n",
    "    return [Student(name) for name in student_names]\n",
    "\n",
    "if __name__ == \"__main__\":\n",
    "    names=['Alice','Brain','Clayton','Jack','Tom']\n",
    "    \n",
    "    for student in class_create(names):\n",
    "        print(student.greet())"
   ]
  },
  {
   "cell_type": "markdown",
   "id": "5bfc5640",
   "metadata": {},
   "source": [
    "# Static Method and class Method"
   ]
  },
  {
   "cell_type": "code",
   "execution_count": 21,
   "id": "25132363",
   "metadata": {},
   "outputs": [],
   "source": [
    "class Animal:\n",
    "    leg=4\n",
    "    can_swim=False\n",
    "    horm=2\n",
    "\n",
    "    def __init__(self,color='black'):\n",
    "        self.color=color\n",
    "        \n",
    "    def run(self):\n",
    "        return f'A animal is running. It is {self}\\n'\n",
    "    \n",
    "    @staticmethod\n",
    "    def pop():\n",
    "        return \"It can pop between its {self.leg}\"\n",
    "    \n",
    "    @classmethod\n",
    "    def create_baby(cls):\n",
    "        return f\"Its born a {cls} child\"\n",
    "        "
   ]
  },
  {
   "cell_type": "code",
   "execution_count": 22,
   "id": "3ae326f1",
   "metadata": {},
   "outputs": [
    {
     "data": {
      "text/plain": [
       "{'color': 'black'}"
      ]
     },
     "execution_count": 22,
     "metadata": {},
     "output_type": "execute_result"
    }
   ],
   "source": [
    "an1=Animal()\n",
    "an1.__dict__"
   ]
  },
  {
   "cell_type": "code",
   "execution_count": 23,
   "id": "aef7bc08",
   "metadata": {},
   "outputs": [
    {
     "data": {
      "text/plain": [
       "'It can pop between its {self.leg}'"
      ]
     },
     "execution_count": 23,
     "metadata": {},
     "output_type": "execute_result"
    }
   ],
   "source": [
    "an1.pop()"
   ]
  },
  {
   "cell_type": "code",
   "execution_count": 24,
   "id": "86a9f2ed",
   "metadata": {},
   "outputs": [
    {
     "data": {
      "text/plain": [
       "\"Its born a <class '__main__.Animal'> child\""
      ]
     },
     "execution_count": 24,
     "metadata": {},
     "output_type": "execute_result"
    }
   ],
   "source": [
    "an1.create_baby()"
   ]
  },
  {
   "cell_type": "code",
   "execution_count": 25,
   "id": "ba0ec1cb",
   "metadata": {},
   "outputs": [
    {
     "data": {
      "text/plain": [
       "'A animal is running. It is <__main__.Animal object at 0x000001F357B1AE50>\\n'"
      ]
     },
     "execution_count": 25,
     "metadata": {},
     "output_type": "execute_result"
    }
   ],
   "source": [
    "an1.run()"
   ]
  },
  {
   "cell_type": "code",
   "execution_count": 26,
   "id": "9ec80e82",
   "metadata": {},
   "outputs": [
    {
     "data": {
      "text/plain": [
       "{'color': 'Yellow'}"
      ]
     },
     "execution_count": 26,
     "metadata": {},
     "output_type": "execute_result"
    }
   ],
   "source": [
    "an1.__dict__['color']='Yellow'\n",
    "an1.__dict__"
   ]
  },
  {
   "cell_type": "code",
   "execution_count": 27,
   "id": "0ce222ef",
   "metadata": {},
   "outputs": [
    {
     "data": {
      "text/plain": [
       "dict"
      ]
     },
     "execution_count": 27,
     "metadata": {},
     "output_type": "execute_result"
    }
   ],
   "source": [
    "type(an1.__dict__)"
   ]
  },
  {
   "cell_type": "markdown",
   "id": "bdeda1ab",
   "metadata": {},
   "source": [
    "# Exercise"
   ]
  },
  {
   "cell_type": "code",
   "execution_count": 28,
   "id": "078baafe",
   "metadata": {},
   "outputs": [],
   "source": [
    "class Tire:\n",
    "    def __init__(self,kind,distance_covered):\n",
    "        self.kind=kind\n",
    "        self.distance_covered=distance_covered\n",
    "        "
   ]
  },
  {
   "cell_type": "code",
   "execution_count": 29,
   "id": "fd706621",
   "metadata": {},
   "outputs": [],
   "source": [
    "class MercedezBenz:\n",
    "    doors=5\n",
    "    model='G'\n",
    "    wheels=4\n",
    "    tire=[Tire('operational',10) for i in range(4)]\n",
    "    \n",
    "    def __init__(self,color='black'):\n",
    "        self.color=color\n",
    "        \n",
    "    def drive(self):\n",
    "        return f\"A MercedezBenz is driving. It is {self}\\n\"\n",
    "    \n",
    "    @staticmethod\n",
    "    def auto_drive():\n",
    "        return \"Auto driving for now-----\"\n",
    "    \n",
    "    @classmethod\n",
    "    def class_lease(cls):\n",
    "        print(f\"A less for {cls} will be created\")"
   ]
  },
  {
   "cell_type": "code",
   "execution_count": 30,
   "id": "3c651235",
   "metadata": {},
   "outputs": [],
   "source": [
    "m1=MercedezBenz()\n",
    "m2=MercedezBenz()"
   ]
  },
  {
   "cell_type": "code",
   "execution_count": 31,
   "id": "7aba3cb7",
   "metadata": {},
   "outputs": [
    {
     "data": {
      "text/plain": [
       "[<__main__.Tire at 0x1f357b23580>,\n",
       " <__main__.Tire at 0x1f357b235e0>,\n",
       " <__main__.Tire at 0x1f357b23880>,\n",
       " <__main__.Tire at 0x1f357b1aee0>]"
      ]
     },
     "execution_count": 31,
     "metadata": {},
     "output_type": "execute_result"
    }
   ],
   "source": [
    "m1.tire"
   ]
  },
  {
   "cell_type": "code",
   "execution_count": 32,
   "id": "cf5129b5",
   "metadata": {},
   "outputs": [
    {
     "data": {
      "text/plain": [
       "[<__main__.Tire at 0x1f357b23580>,\n",
       " <__main__.Tire at 0x1f357b235e0>,\n",
       " <__main__.Tire at 0x1f357b23880>,\n",
       " <__main__.Tire at 0x1f357b1aee0>]"
      ]
     },
     "execution_count": 32,
     "metadata": {},
     "output_type": "execute_result"
    }
   ],
   "source": [
    "m2.tire"
   ]
  },
  {
   "cell_type": "code",
   "execution_count": 33,
   "id": "fce17465",
   "metadata": {},
   "outputs": [],
   "source": [
    "m1.tire.append(Tire(kind='spare',distance_covered=100))"
   ]
  },
  {
   "cell_type": "code",
   "execution_count": 34,
   "id": "5cd403c7",
   "metadata": {},
   "outputs": [
    {
     "data": {
      "text/plain": [
       "4"
      ]
     },
     "execution_count": 34,
     "metadata": {},
     "output_type": "execute_result"
    }
   ],
   "source": [
    "m1.wheels"
   ]
  },
  {
   "cell_type": "code",
   "execution_count": 35,
   "id": "ebf41479",
   "metadata": {},
   "outputs": [
    {
     "data": {
      "text/plain": [
       "[<__main__.Tire at 0x1f357b23580>,\n",
       " <__main__.Tire at 0x1f357b235e0>,\n",
       " <__main__.Tire at 0x1f357b23880>,\n",
       " <__main__.Tire at 0x1f357b1aee0>,\n",
       " <__main__.Tire at 0x1f357b1a8b0>]"
      ]
     },
     "execution_count": 35,
     "metadata": {},
     "output_type": "execute_result"
    }
   ],
   "source": [
    "m2.tire"
   ]
  }
 ],
 "metadata": {
  "kernelspec": {
   "display_name": "Python 3 (ipykernel)",
   "language": "python",
   "name": "python3"
  },
  "language_info": {
   "codemirror_mode": {
    "name": "ipython",
    "version": 3
   },
   "file_extension": ".py",
   "mimetype": "text/x-python",
   "name": "python",
   "nbconvert_exporter": "python",
   "pygments_lexer": "ipython3",
   "version": "3.9.15"
  }
 },
 "nbformat": 4,
 "nbformat_minor": 5
}
