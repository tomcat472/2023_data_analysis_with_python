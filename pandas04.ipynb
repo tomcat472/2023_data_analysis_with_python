{
 "cells": [
  {
   "cell_type": "code",
   "execution_count": 1,
   "id": "11d93596",
   "metadata": {},
   "outputs": [],
   "source": [
    "import pandas as pd"
   ]
  },
  {
   "cell_type": "code",
   "execution_count": 2,
   "id": "3bf5cee9",
   "metadata": {},
   "outputs": [
    {
     "name": "stderr",
     "output_type": "stream",
     "text": [
      "C:\\Users\\Lenovo\\AppData\\Local\\Temp\\ipykernel_5744\\1905880014.py:1: DtypeWarning: Columns (68,70,71,72,73,74,76,79) have mixed types. Specify dtype option on import or set low_memory=False.\n",
      "  df=pd.read_csv('data/vehicles.csv.zip')\n"
     ]
    },
    {
     "data": {
      "text/plain": [
       "0        19\n",
       "1         9\n",
       "2        23\n",
       "3        10\n",
       "4        17\n",
       "         ..\n",
       "41139    19\n",
       "41140    20\n",
       "41141    18\n",
       "41142    18\n",
       "41143    16\n",
       "Name: city08, Length: 41144, dtype: int64"
      ]
     },
     "execution_count": 2,
     "metadata": {},
     "output_type": "execute_result"
    }
   ],
   "source": [
    "df=pd.read_csv('data/vehicles.csv.zip')\n",
    "city_mpg=df.city08\n",
    "city_mpg"
   ]
  },
  {
   "cell_type": "markdown",
   "id": "ae8bc01d",
   "metadata": {},
   "source": [
    "# apply and where"
   ]
  },
  {
   "cell_type": "code",
   "execution_count": 3,
   "id": "2ebce22e",
   "metadata": {},
   "outputs": [],
   "source": [
    "def gt20(val):\n",
    "    return val>20"
   ]
  },
  {
   "cell_type": "code",
   "execution_count": 4,
   "id": "842fb76a",
   "metadata": {},
   "outputs": [
    {
     "name": "stdout",
     "output_type": "stream",
     "text": [
      "8.57 ms ± 1.09 ms per loop (mean ± std. dev. of 7 runs, 100 loops each)\n"
     ]
    }
   ],
   "source": [
    "%%timeit\n",
    "city_mpg.apply(gt20)"
   ]
  },
  {
   "cell_type": "code",
   "execution_count": 5,
   "id": "c896f47f",
   "metadata": {},
   "outputs": [
    {
     "name": "stdout",
     "output_type": "stream",
     "text": [
      "115 µs ± 9.69 µs per loop (mean ± std. dev. of 7 runs, 10,000 loops each)\n"
     ]
    }
   ],
   "source": [
    "%%timeit\n",
    "city_mpg.gt(20)"
   ]
  },
  {
   "cell_type": "markdown",
   "id": "547ce3bb",
   "metadata": {},
   "source": [
    "### values_count"
   ]
  },
  {
   "cell_type": "code",
   "execution_count": 6,
   "id": "eeca825a",
   "metadata": {},
   "outputs": [
    {
     "data": {
      "text/plain": [
       "0        Alfa Romeo\n",
       "1           Ferrari\n",
       "2             Dodge\n",
       "3             Dodge\n",
       "4            Subaru\n",
       "            ...    \n",
       "41139        Subaru\n",
       "41140        Subaru\n",
       "41141        Subaru\n",
       "41142        Subaru\n",
       "41143        Subaru\n",
       "Name: make, Length: 41144, dtype: object"
      ]
     },
     "execution_count": 6,
     "metadata": {},
     "output_type": "execute_result"
    }
   ],
   "source": [
    "make=df.make\n",
    "make"
   ]
  },
  {
   "cell_type": "code",
   "execution_count": 7,
   "id": "dc51d323",
   "metadata": {},
   "outputs": [
    {
     "data": {
      "text/plain": [
       "Chevrolet                      4003\n",
       "Ford                           3371\n",
       "Dodge                          2583\n",
       "GMC                            2494\n",
       "Toyota                         2071\n",
       "                               ... \n",
       "Volga Associated Automobile       1\n",
       "Panos                             1\n",
       "Mahindra                          1\n",
       "Excalibur Autos                   1\n",
       "London Coach Co Inc               1\n",
       "Name: make, Length: 136, dtype: int64"
      ]
     },
     "execution_count": 7,
     "metadata": {},
     "output_type": "execute_result"
    }
   ],
   "source": [
    "make.value_counts()"
   ]
  },
  {
   "cell_type": "code",
   "execution_count": 8,
   "id": "cb2e6a03",
   "metadata": {},
   "outputs": [
    {
     "data": {
      "text/plain": [
       "Index(['Chevrolet', 'Ford', 'Dodge', 'GMC', 'Toyota'], dtype='object')"
      ]
     },
     "execution_count": 8,
     "metadata": {},
     "output_type": "execute_result"
    }
   ],
   "source": [
    "top5=make.value_counts().index[:5]\n",
    "top5"
   ]
  },
  {
   "cell_type": "code",
   "execution_count": 9,
   "id": "fc69a7ee",
   "metadata": {},
   "outputs": [],
   "source": [
    "# The first five entries in the index are the values I want to keep, everything I want to replace with Other.\n",
    "def generalize_top5(val):\n",
    "    if val in top5:\n",
    "        return val\n",
    "    else:\n",
    "        return 'other'"
   ]
  },
  {
   "cell_type": "code",
   "execution_count": 10,
   "id": "bc431225",
   "metadata": {},
   "outputs": [
    {
     "data": {
      "text/plain": [
       "0        other\n",
       "1        other\n",
       "2        Dodge\n",
       "3        Dodge\n",
       "4        other\n",
       "         ...  \n",
       "41139    other\n",
       "41140    other\n",
       "41141    other\n",
       "41142    other\n",
       "41143    other\n",
       "Name: make, Length: 41144, dtype: object"
      ]
     },
     "execution_count": 10,
     "metadata": {},
     "output_type": "execute_result"
    }
   ],
   "source": [
    "make.apply(generalize_top5)"
   ]
  },
  {
   "cell_type": "code",
   "execution_count": 11,
   "id": "8ac0a61f",
   "metadata": {},
   "outputs": [
    {
     "data": {
      "text/plain": [
       "0        Other\n",
       "1        Other\n",
       "2        Dodge\n",
       "3        Dodge\n",
       "4        Other\n",
       "         ...  \n",
       "41139    Other\n",
       "41140    Other\n",
       "41141    Other\n",
       "41142    Other\n",
       "41143    Other\n",
       "Name: make, Length: 41144, dtype: object"
      ]
     },
     "execution_count": 11,
     "metadata": {},
     "output_type": "execute_result"
    }
   ],
   "source": [
    "# where က np နဲ့ဆင်တယ်\n",
    "make.where(make.isin(top5),other='Other')"
   ]
  },
  {
   "cell_type": "markdown",
   "id": "d732663d",
   "metadata": {},
   "source": [
    "###### shit tab and tab"
   ]
  },
  {
   "cell_type": "code",
   "execution_count": 12,
   "id": "d9af09a2",
   "metadata": {},
   "outputs": [
    {
     "name": "stdout",
     "output_type": "stream",
     "text": [
      "3.32 ms ± 363 µs per loop (mean ± std. dev. of 7 runs, 100 loops each)\n"
     ]
    }
   ],
   "source": [
    "%%timeit\n",
    "make.where(make.isin(top5),other='Other')"
   ]
  },
  {
   "cell_type": "code",
   "execution_count": 13,
   "id": "97c3635e",
   "metadata": {},
   "outputs": [
    {
     "name": "stdout",
     "output_type": "stream",
     "text": [
      "20.8 ms ± 1.98 ms per loop (mean ± std. dev. of 7 runs, 100 loops each)\n"
     ]
    }
   ],
   "source": [
    "%%timeit\n",
    "make.apply(generalize_top5)"
   ]
  },
  {
   "cell_type": "code",
   "execution_count": 14,
   "id": "5b3b337f",
   "metadata": {},
   "outputs": [
    {
     "data": {
      "text/plain": [
       "0        Alfa Romeo\n",
       "1           Ferrari\n",
       "2             Other\n",
       "3             Other\n",
       "4            Subaru\n",
       "            ...    \n",
       "41139        Subaru\n",
       "41140        Subaru\n",
       "41141        Subaru\n",
       "41142        Subaru\n",
       "41143        Subaru\n",
       "Name: make, Length: 41144, dtype: object"
      ]
     },
     "execution_count": 14,
     "metadata": {},
     "output_type": "execute_result"
    }
   ],
   "source": [
    "# opposite situation\n",
    "make.where(~make.isin(top5),other='Other')"
   ]
  },
  {
   "cell_type": "markdown",
   "id": "c0c1cdf6",
   "metadata": {},
   "source": [
    "# If else with pandas"
   ]
  },
  {
   "cell_type": "code",
   "execution_count": 15,
   "id": "6a24fcc9",
   "metadata": {},
   "outputs": [],
   "source": [
    "vc=make.value_counts(10)\n",
    "top5=vc.index[:5]\n",
    "top10=vc.index[:10]"
   ]
  },
  {
   "cell_type": "code",
   "execution_count": 16,
   "id": "f01a3d30",
   "metadata": {},
   "outputs": [],
   "source": [
    "def generalize(val):\n",
    "    if val in top5:\n",
    "        return val\n",
    "    elif val in top10:\n",
    "        return 'top 10'\n",
    "    else:\n",
    "        return 'Other'"
   ]
  },
  {
   "cell_type": "code",
   "execution_count": 17,
   "id": "63c2b899",
   "metadata": {},
   "outputs": [
    {
     "data": {
      "text/plain": [
       "0        Other\n",
       "1        Other\n",
       "2        Dodge\n",
       "3        Dodge\n",
       "4        Other\n",
       "         ...  \n",
       "41139    Other\n",
       "41140    Other\n",
       "41141    Other\n",
       "41142    Other\n",
       "41143    Other\n",
       "Name: make, Length: 41144, dtype: object"
      ]
     },
     "execution_count": 17,
     "metadata": {},
     "output_type": "execute_result"
    }
   ],
   "source": [
    "make.apply(generalize)"
   ]
  },
  {
   "cell_type": "code",
   "execution_count": 18,
   "id": "ad5dc3ae",
   "metadata": {},
   "outputs": [
    {
     "data": {
      "text/plain": [
       "(0        top10\n",
       " 1        top10\n",
       " 2        Dodge\n",
       " 3        Dodge\n",
       " 4        top10\n",
       "          ...  \n",
       " 41139    top10\n",
       " 41140    top10\n",
       " 41141    top10\n",
       " 41142    top10\n",
       " 41143    top10\n",
       " Name: make, Length: 41144, dtype: object,\n",
       " 0        Other\n",
       " 1        Other\n",
       " 2        Dodge\n",
       " 3        Dodge\n",
       " 4        Other\n",
       "          ...  \n",
       " 41139    Other\n",
       " 41140    Other\n",
       " 41141    Other\n",
       " 41142    Other\n",
       " 41143    Other\n",
       " Name: make, Length: 41144, dtype: object)"
      ]
     },
     "execution_count": 18,
     "metadata": {},
     "output_type": "execute_result"
    }
   ],
   "source": [
    "(\n",
    "    make.where(make.isin(top5),'top10'),\n",
    "    make.where(make.isin(top10),'Other')\n",
    ")"
   ]
  },
  {
   "cell_type": "markdown",
   "id": "aa37b716",
   "metadata": {},
   "source": [
    "### Numpy Method"
   ]
  },
  {
   "cell_type": "code",
   "execution_count": 19,
   "id": "f8647e3c",
   "metadata": {},
   "outputs": [
    {
     "data": {
      "text/plain": [
       "array(['Other', 'Other', 'Dodge', ..., 'Other', 'Other', 'Other'],\n",
       "      dtype=object)"
      ]
     },
     "execution_count": 19,
     "metadata": {},
     "output_type": "execute_result"
    }
   ],
   "source": [
    "import numpy as np\n",
    "np.select([make.isin(top5),make.isin(top10)],[make,'Top10'],'Other')"
   ]
  },
  {
   "cell_type": "code",
   "execution_count": 20,
   "id": "8f5199d8",
   "metadata": {},
   "outputs": [
    {
     "data": {
      "text/plain": [
       "0        Other\n",
       "1        Other\n",
       "2        Dodge\n",
       "3        Dodge\n",
       "4        Other\n",
       "         ...  \n",
       "41139    Other\n",
       "41140    Other\n",
       "41141    Other\n",
       "41142    Other\n",
       "41143    Other\n",
       "Length: 41144, dtype: object"
      ]
     },
     "execution_count": 20,
     "metadata": {},
     "output_type": "execute_result"
    }
   ],
   "source": [
    "pd.Series(np.select([make.isin(top5),make.isin(top10)],[make,'Top10'],'Other'))"
   ]
  },
  {
   "cell_type": "markdown",
   "id": "420f23d5",
   "metadata": {},
   "source": [
    "# Missing Data"
   ]
  },
  {
   "cell_type": "code",
   "execution_count": 21,
   "id": "d7390ed8",
   "metadata": {},
   "outputs": [
    {
     "data": {
      "text/plain": [
       "0     4.0\n",
       "1    12.0\n",
       "2     4.0\n",
       "3     8.0\n",
       "4     4.0\n",
       "Name: cylinders, dtype: float64"
      ]
     },
     "execution_count": 21,
     "metadata": {},
     "output_type": "execute_result"
    }
   ],
   "source": [
    "cyl=df.cylinders\n",
    "cyl.head()"
   ]
  },
  {
   "cell_type": "code",
   "execution_count": 22,
   "id": "0e1b7532",
   "metadata": {},
   "outputs": [
    {
     "data": {
      "text/plain": [
       "0        False\n",
       "1        False\n",
       "2        False\n",
       "3        False\n",
       "4        False\n",
       "         ...  \n",
       "41139    False\n",
       "41140    False\n",
       "41141    False\n",
       "41142    False\n",
       "41143    False\n",
       "Name: cylinders, Length: 41144, dtype: bool"
      ]
     },
     "execution_count": 22,
     "metadata": {},
     "output_type": "execute_result"
    }
   ],
   "source": [
    "cyl.isna()"
   ]
  },
  {
   "cell_type": "code",
   "execution_count": 23,
   "id": "101599e6",
   "metadata": {},
   "outputs": [
    {
     "data": {
      "text/plain": [
       "206"
      ]
     },
     "execution_count": 23,
     "metadata": {},
     "output_type": "execute_result"
    }
   ],
   "source": [
    "cyl.isna().sum()"
   ]
  },
  {
   "cell_type": "code",
   "execution_count": 24,
   "id": "02985d87",
   "metadata": {},
   "outputs": [
    {
     "data": {
      "text/plain": [
       "False    40938\n",
       "True       206\n",
       "Name: cylinders, dtype: int64"
      ]
     },
     "execution_count": 24,
     "metadata": {},
     "output_type": "execute_result"
    }
   ],
   "source": [
    "cyl.isna().value_counts()"
   ]
  },
  {
   "cell_type": "code",
   "execution_count": 25,
   "id": "96d8147c",
   "metadata": {},
   "outputs": [
    {
     "data": {
      "text/plain": [
       "7138     Nissan\n",
       "7139     Toyota\n",
       "8143     Toyota\n",
       "8144       Ford\n",
       "8146       Ford\n",
       "          ...  \n",
       "34563     Tesla\n",
       "34564     Tesla\n",
       "34565     Tesla\n",
       "34566     Tesla\n",
       "34567     Tesla\n",
       "Name: make, Length: 206, dtype: object"
      ]
     },
     "execution_count": 25,
     "metadata": {},
     "output_type": "execute_result"
    }
   ],
   "source": [
    "missing=cyl.isna()\n",
    "make.loc[missing]\n",
    "# Na ဖြစ်နေတဲ့ ဟာတွေကို တခြား column နဲ့ mask လုပ်ပြီးကြည့်ခြင်း"
   ]
  },
  {
   "cell_type": "code",
   "execution_count": 26,
   "id": "c4eb2b05",
   "metadata": {},
   "outputs": [
    {
     "data": {
      "text/plain": [
       "0         4.0\n",
       "1        12.0\n",
       "2         4.0\n",
       "3         8.0\n",
       "4         4.0\n",
       "         ... \n",
       "41139     4.0\n",
       "41140     4.0\n",
       "41141     4.0\n",
       "41142     4.0\n",
       "41143     4.0\n",
       "Name: cylinders, Length: 41144, dtype: float64"
      ]
     },
     "execution_count": 26,
     "metadata": {},
     "output_type": "execute_result"
    }
   ],
   "source": [
    "cyl.fillna(0)"
   ]
  },
  {
   "cell_type": "code",
   "execution_count": 27,
   "id": "41bd8c07",
   "metadata": {},
   "outputs": [
    {
     "data": {
      "text/plain": [
       "7136    6.0\n",
       "7137    6.0\n",
       "7138    0.0\n",
       "7139    0.0\n",
       "7140    6.0\n",
       "7141    6.0\n",
       "Name: cylinders, dtype: float64"
      ]
     },
     "execution_count": 27,
     "metadata": {},
     "output_type": "execute_result"
    }
   ],
   "source": [
    "cyl.fillna(0).loc[7136:7141]"
   ]
  }
 ],
 "metadata": {
  "kernelspec": {
   "display_name": "Python 3 (ipykernel)",
   "language": "python",
   "name": "python3"
  },
  "language_info": {
   "codemirror_mode": {
    "name": "ipython",
    "version": 3
   },
   "file_extension": ".py",
   "mimetype": "text/x-python",
   "name": "python",
   "nbconvert_exporter": "python",
   "pygments_lexer": "ipython3",
   "version": "3.9.15"
  }
 },
 "nbformat": 4,
 "nbformat_minor": 5
}
