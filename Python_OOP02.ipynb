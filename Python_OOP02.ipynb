{
 "cells": [
  {
   "cell_type": "code",
   "execution_count": 1,
   "id": "add3c9bb",
   "metadata": {},
   "outputs": [],
   "source": [
    "# Dunders\n",
    "# Understand double underscore methods\n",
    "# add pythonic behaviour to our classes using dunders\n",
    "# customize equality, truthiness, hashingm operator and more--"
   ]
  },
  {
   "cell_type": "raw",
   "id": "e94bbf33",
   "metadata": {},
   "source": [
    "__repr__ \n",
    "We could customize our object's representation by implementating __repr__ in the object's class definition."
   ]
  },
  {
   "cell_type": "code",
   "execution_count": 2,
   "id": "09ace6db",
   "metadata": {},
   "outputs": [],
   "source": [
    "class Book:\n",
    "    def __init__(self,title,author,book_type,pages):\n",
    "        self.title=title\n",
    "        self.author=author\n",
    "        self.book_type=book_type\n",
    "        self.pages=pages\n",
    "    \n",
    "    def __repr__(self):\n",
    "        return f\"The {self.title} is written by {self.author}. It's {self.book_type} and {self.pages} pages.\""
   ]
  },
  {
   "cell_type": "code",
   "execution_count": 3,
   "id": "f8b12871",
   "metadata": {},
   "outputs": [
    {
     "data": {
      "text/plain": [
       "The Circle of the Life is written by Unknown. It's Stories and 216 pages."
      ]
     },
     "execution_count": 3,
     "metadata": {},
     "output_type": "execute_result"
    }
   ],
   "source": [
    "b1=Book(\"Circle of the Life\",\"Unknown\",\"Stories\",216)\n",
    "b1"
   ]
  },
  {
   "cell_type": "code",
   "execution_count": 4,
   "id": "c29537e7",
   "metadata": {},
   "outputs": [
    {
     "data": {
      "text/plain": [
       "{'title': 'Circle of the Life',\n",
       " 'author': 'Unknown',\n",
       " 'book_type': 'Stories',\n",
       " 'pages': 216}"
      ]
     },
     "execution_count": 4,
     "metadata": {},
     "output_type": "execute_result"
    }
   ],
   "source": [
    "b1.__dict__"
   ]
  },
  {
   "cell_type": "raw",
   "id": "23110d7c",
   "metadata": {},
   "source": [
    "__str__ ==> informal for end user\n",
    "__repr__ ==> more dev/code for user oriented"
   ]
  },
  {
   "cell_type": "code",
   "execution_count": 5,
   "id": "84655a7e",
   "metadata": {},
   "outputs": [],
   "source": [
    "class Book:\n",
    "    def __init__(self,title,author,book_type,pages):\n",
    "        self.title=title\n",
    "        self.author=author\n",
    "        self.book_type=book_type\n",
    "        self.pages=pages\n",
    "    \n",
    "    def __repr__(self):\n",
    "        return f\"The {self.title} is written by {self.author}. It's {self.book_type} and {self.pages} pages.\"\n",
    "    \n",
    "    def __str__(self):\n",
    "        return f\"{self.title} by {self.author} in {self.book_type}\""
   ]
  },
  {
   "cell_type": "code",
   "execution_count": 6,
   "id": "907dc7b3",
   "metadata": {},
   "outputs": [
    {
     "data": {
      "text/plain": [
       "The Lord the rings is written by Unknown. It's Stories and 1216 pages."
      ]
     },
     "execution_count": 6,
     "metadata": {},
     "output_type": "execute_result"
    }
   ],
   "source": [
    "b2=Book(\"Lord the rings\",\"Unknown\",\"Advanture\",1216)\n",
    "b2"
   ]
  },
  {
   "cell_type": "code",
   "execution_count": 7,
   "id": "1fb374fe",
   "metadata": {},
   "outputs": [
    {
     "name": "stdout",
     "output_type": "stream",
     "text": [
      "Lord the rings by Unknown in Stories\n"
     ]
    }
   ],
   "source": [
    "print(b2)"
   ]
  },
  {
   "cell_type": "raw",
   "id": "2241c39a",
   "metadata": {},
   "source": [
    "if you have ro pick between two, choose to define dunder repr because python falls to dunder repr if str is not defined."
   ]
  },
  {
   "cell_type": "markdown",
   "id": "5b1a4b6b",
   "metadata": {},
   "source": [
    "# __format__"
   ]
  },
  {
   "cell_type": "code",
   "execution_count": 14,
   "id": "229286a8",
   "metadata": {},
   "outputs": [
    {
     "name": "stdout",
     "output_type": "stream",
     "text": [
      "1000.000\n"
     ]
    }
   ],
   "source": [
    "print(f\"{1000:.3f}\")"
   ]
  },
  {
   "cell_type": "code",
   "execution_count": 15,
   "id": "39774af5",
   "metadata": {},
   "outputs": [
    {
     "data": {
      "text/plain": [
       "'100.000'"
      ]
     },
     "execution_count": 15,
     "metadata": {},
     "output_type": "execute_result"
    }
   ],
   "source": [
    "\"{:,.3f}\".format(100)"
   ]
  },
  {
   "cell_type": "code",
   "execution_count": 18,
   "id": "08819fa3",
   "metadata": {},
   "outputs": [],
   "source": [
    "class Book:\n",
    "    def __init__(self,title,author,book_type,pages):\n",
    "        self.title=title\n",
    "        self.author=author\n",
    "        self.book_type=book_type\n",
    "        self.pages=pages\n",
    "    \n",
    "    def __repr__(self):\n",
    "        return f\"The {self.title} is written by {self.author}. It's {self.book_type} and {self.pages} pages.\"\n",
    "    \n",
    "    def __str__(self):\n",
    "        return f\"{self.title} by {self.author} in {self.book_type}\"\n",
    "    \n",
    "    def __format__(self,format_spec):\n",
    "        if format_spec==\"short\":\n",
    "            return f\"{self.title}-{self.author}\"\n",
    "        elif format_spec==\"stealth\":\n",
    "            return f\"A book containing exactly {self.pages}, Guess?\"\n",
    "        else:\n",
    "            return repr(self)"
   ]
  },
  {
   "cell_type": "code",
   "execution_count": 19,
   "id": "cf597fdc",
   "metadata": {},
   "outputs": [
    {
     "data": {
      "text/plain": [
       "The Lord the rings is written by Unknown. It's Advanture and 1216 pages."
      ]
     },
     "execution_count": 19,
     "metadata": {},
     "output_type": "execute_result"
    }
   ],
   "source": [
    "b=Book(\"Lord the rings\",\"Unknown\",\"Advanture\",1216)\n",
    "b"
   ]
  },
  {
   "cell_type": "code",
   "execution_count": 22,
   "id": "9e451bf6",
   "metadata": {},
   "outputs": [
    {
     "name": "stdout",
     "output_type": "stream",
     "text": [
      "The Lord the rings is written by Unknown. It's Advanture and 1216 pages.\n",
      "Lord the rings-Unknown\n",
      "A book containing exactly 1216, Guess?\n"
     ]
    }
   ],
   "source": [
    "print(f\"{b}\")\n",
    "print(f\"{b:short}\")\n",
    "print(f\"{b:stealth}\")"
   ]
  },
  {
   "cell_type": "code",
   "execution_count": 26,
   "id": "4ece103e",
   "metadata": {},
   "outputs": [
    {
     "name": "stdout",
     "output_type": "stream",
     "text": [
      "The Lord the rings is written by Unknown. It's Advanture and 1216 pages.\n",
      "Lord the rings-Unknown\n",
      "A book containing exactly 1216, Guess?\n"
     ]
    }
   ],
   "source": [
    "print(\"{}\".format(b))\n",
    "print((\"{:short}\").format(b))\n",
    "print((\"{:stealth}\").format(b))"
   ]
  },
  {
   "cell_type": "code",
   "execution_count": 27,
   "id": "0a13f6d5",
   "metadata": {},
   "outputs": [],
   "source": [
    "# string representation formatting for our objects could be customized by defining __format__\n",
    "# f string, the format() built-in, and str format() all call the same dunder\n",
    "# defining __format__ is completely optional; python will delegate to __str__ and  if that's not defined\n",
    "# either, ultimately fallback to __repr__"
   ]
  }
 ],
 "metadata": {
  "kernelspec": {
   "display_name": "Python 3 (ipykernel)",
   "language": "python",
   "name": "python3"
  },
  "language_info": {
   "codemirror_mode": {
    "name": "ipython",
    "version": 3
   },
   "file_extension": ".py",
   "mimetype": "text/x-python",
   "name": "python",
   "nbconvert_exporter": "python",
   "pygments_lexer": "ipython3",
   "version": "3.9.15"
  }
 },
 "nbformat": 4,
 "nbformat_minor": 5
}
