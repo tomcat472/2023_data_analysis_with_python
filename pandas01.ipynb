{
 "cells": [
  {
   "cell_type": "markdown",
   "id": "40a2425e",
   "metadata": {},
   "source": [
    "A Series is used to model one-dimensional data. The Series Object has a few more bits of data, including an index and a name. Series is similar to dictionary."
   ]
  },
  {
   "cell_type": "code",
   "execution_count": 1,
   "id": "dfefe696",
   "metadata": {},
   "outputs": [
    {
     "data": {
      "text/plain": [
       "{'index': [0, 1, 2, 3], 'data': [145, 142, 84, 23], 'name': 'songs'}"
      ]
     },
     "execution_count": 1,
     "metadata": {},
     "output_type": "execute_result"
    }
   ],
   "source": [
    "series={\n",
    "    'index':[0,1,2,3],\n",
    "    'data':[145,142,84,23],\n",
    "    'name':'songs'\n",
    "}\n",
    "series"
   ]
  },
  {
   "cell_type": "code",
   "execution_count": 2,
   "id": "1da8897a",
   "metadata": {},
   "outputs": [],
   "source": [
    "def get(series,idx):\n",
    "    value_idx=series['index'].index(idx)\n",
    "    return series['data'][value_idx]"
   ]
  },
  {
   "cell_type": "code",
   "execution_count": 3,
   "id": "add930ac",
   "metadata": {},
   "outputs": [
    {
     "data": {
      "text/plain": [
       "142"
      ]
     },
     "execution_count": 3,
     "metadata": {},
     "output_type": "execute_result"
    }
   ],
   "source": [
    "get(series,1)"
   ]
  },
  {
   "cell_type": "code",
   "execution_count": 4,
   "id": "a0c4788f",
   "metadata": {},
   "outputs": [
    {
     "data": {
      "text/plain": [
       "13"
      ]
     },
     "execution_count": 4,
     "metadata": {},
     "output_type": "execute_result"
    }
   ],
   "source": [
    "# examples\n",
    "songs={\n",
    "    'index':['Paul','John','George','Ringo'],\n",
    "    'data':[145,142,38,13],\n",
    "    'name':'counts'\n",
    "}\n",
    "get(songs,'Ringo')"
   ]
  },
  {
   "cell_type": "markdown",
   "id": "5384918d",
   "metadata": {},
   "source": [
    "# Pandas Series"
   ]
  },
  {
   "cell_type": "code",
   "execution_count": 5,
   "id": "a7687fc6",
   "metadata": {},
   "outputs": [],
   "source": [
    "import pandas as pd #importing library"
   ]
  },
  {
   "cell_type": "code",
   "execution_count": 6,
   "id": "1fd5296e",
   "metadata": {},
   "outputs": [
    {
     "data": {
      "text/plain": [
       "0    1\n",
       "1    2\n",
       "2    3\n",
       "3    4\n",
       "Name: counts, dtype: int64"
      ]
     },
     "execution_count": 6,
     "metadata": {},
     "output_type": "execute_result"
    }
   ],
   "source": [
    "songs2=pd.Series([1,2,3,4],name='counts')\n",
    "songs2\n",
    "# output => ဘယ်ဘက် က index, ညာဘက်က value, name က optional"
   ]
  },
  {
   "cell_type": "markdown",
   "id": "fe6feb06",
   "metadata": {},
   "source": [
    "index က string လဲဖြစ်လို့ရတယ်။ \n",
    "index က string ဖြစ်နေချိန် index ရဲ့ datatype က string မဟုတ်ပါ။ object datatype ဖြစ်ပါတယ်။"
   ]
  },
  {
   "cell_type": "code",
   "execution_count": 7,
   "id": "d1fee101",
   "metadata": {},
   "outputs": [
    {
     "data": {
      "text/plain": [
       "Paul      145\n",
       "Jack       32\n",
       "George      5\n",
       "Ringo      23\n",
       "dtype: int64"
      ]
     },
     "execution_count": 7,
     "metadata": {},
     "output_type": "execute_result"
    }
   ],
   "source": [
    "# example\n",
    "songs3=pd.Series([145,32,5,23],index=['Paul','Jack','George','Ringo'])\n",
    "songs3"
   ]
  },
  {
   "cell_type": "code",
   "execution_count": 8,
   "id": "adbf278b",
   "metadata": {},
   "outputs": [
    {
     "data": {
      "text/plain": [
       "Index(['Paul', 'Jack', 'George', 'Ringo'], dtype='object')"
      ]
     },
     "execution_count": 8,
     "metadata": {},
     "output_type": "execute_result"
    }
   ],
   "source": [
    "songs3.index"
   ]
  },
  {
   "cell_type": "code",
   "execution_count": 9,
   "id": "105f7540",
   "metadata": {},
   "outputs": [
    {
     "data": {
      "text/plain": [
       "0       a\n",
       "1       b\n",
       "2    True\n",
       "3     1.2\n",
       "Name: random, dtype: object"
      ]
     },
     "execution_count": 9,
     "metadata": {},
     "output_type": "execute_result"
    }
   ],
   "source": [
    "# series လုပ်တဲ့အခါ ဘာ data type မဆိုလုပ်လို့ရတယ်\n",
    "random=pd.Series(['a','b',True,1.2],name='random')\n",
    "random"
   ]
  },
  {
   "cell_type": "code",
   "execution_count": 10,
   "id": "7905a2b9",
   "metadata": {},
   "outputs": [
    {
     "data": {
      "text/plain": [
       "4"
      ]
     },
     "execution_count": 10,
     "metadata": {},
     "output_type": "execute_result"
    }
   ],
   "source": [
    "random.count()"
   ]
  },
  {
   "cell_type": "markdown",
   "id": "0eff6755",
   "metadata": {},
   "source": [
    "## NaN Value"
   ]
  },
  {
   "cell_type": "markdown",
   "id": "31824fe7",
   "metadata": {},
   "source": [
    "A series holds numeric values but cannot find a number to represent entry, it will use NaN.\n",
    "This value stands for Not a Number and is usually ignoredin arithematic operations. \n",
    "(Similar to NULL in SQL)"
   ]
  },
  {
   "cell_type": "code",
   "execution_count": 11,
   "id": "cfc08a9d",
   "metadata": {},
   "outputs": [],
   "source": [
    "import numpy as np"
   ]
  },
  {
   "cell_type": "code",
   "execution_count": 12,
   "id": "0aa1983d",
   "metadata": {},
   "outputs": [
    {
     "data": {
      "text/plain": [
       "a    2.0\n",
       "b    NaN\n",
       "dtype: float64"
      ]
     },
     "execution_count": 12,
     "metadata": {},
     "output_type": "execute_result"
    }
   ],
   "source": [
    "nan_series=pd.Series([2,np.nan],index=['a','b'])\n",
    "nan_series"
   ]
  },
  {
   "cell_type": "code",
   "execution_count": 13,
   "id": "0c9f0fdb",
   "metadata": {},
   "outputs": [
    {
     "data": {
      "text/plain": [
       "1"
      ]
     },
     "execution_count": 13,
     "metadata": {},
     "output_type": "execute_result"
    }
   ],
   "source": [
    "nan_series.count()"
   ]
  },
  {
   "cell_type": "code",
   "execution_count": 14,
   "id": "680b5d61",
   "metadata": {},
   "outputs": [
    {
     "data": {
      "text/plain": [
       "2"
      ]
     },
     "execution_count": 14,
     "metadata": {},
     "output_type": "execute_result"
    }
   ],
   "source": [
    "nan_series.size"
   ]
  },
  {
   "cell_type": "code",
   "execution_count": 15,
   "id": "17b14b3c",
   "metadata": {},
   "outputs": [],
   "source": [
    "#တခုမှတ်ထားရမှာက int64 မှာဆိုရင် NaN လို့မပေါ်ဘူး။ <NA> လို့ပဲပေါ်ပါတယ်။"
   ]
  },
  {
   "cell_type": "code",
   "execution_count": 16,
   "id": "06da70eb",
   "metadata": {},
   "outputs": [
    {
     "data": {
      "text/plain": [
       "a       2\n",
       "b    <NA>\n",
       "dtype: Int64"
      ]
     },
     "execution_count": 16,
     "metadata": {},
     "output_type": "execute_result"
    }
   ],
   "source": [
    "nan_series2=pd.Series([2,np.nan],index=['a','b'],dtype='Int64')\n",
    "nan_series2"
   ]
  },
  {
   "cell_type": "code",
   "execution_count": 17,
   "id": "eaf06668",
   "metadata": {},
   "outputs": [
    {
     "data": {
      "text/plain": [
       "a     2.0\n",
       "b    <NA>\n",
       "dtype: Float64"
      ]
     },
     "execution_count": 17,
     "metadata": {},
     "output_type": "execute_result"
    }
   ],
   "source": [
    "# convert data type\n",
    "nan_series2.astype('Float64')"
   ]
  },
  {
   "cell_type": "markdown",
   "id": "701f2c53",
   "metadata": {},
   "source": [
    "### Similar to Numpy"
   ]
  },
  {
   "cell_type": "code",
   "execution_count": 18,
   "id": "0809aaf0",
   "metadata": {},
   "outputs": [
    {
     "name": "stdout",
     "output_type": "stream",
     "text": [
      "[1 2 3 4 5]\n",
      "0    1\n",
      "1    2\n",
      "2    3\n",
      "3    4\n",
      "4    5\n",
      "dtype: int64\n"
     ]
    }
   ],
   "source": [
    "array=np.array([1,2,3,4,5])\n",
    "series=pd.Series([1,2,3,4,5])\n",
    "print(array)\n",
    "print(series)"
   ]
  },
  {
   "cell_type": "code",
   "execution_count": 19,
   "id": "87b4dd92",
   "metadata": {},
   "outputs": [
    {
     "name": "stdout",
     "output_type": "stream",
     "text": [
      "3.0\n",
      "3.0\n"
     ]
    }
   ],
   "source": [
    "print(array.mean())\n",
    "print(series.mean())"
   ]
  },
  {
   "cell_type": "markdown",
   "id": "69505b7b",
   "metadata": {},
   "source": [
    "##### Boolean Array"
   ]
  },
  {
   "cell_type": "code",
   "execution_count": 20,
   "id": "e81af28b",
   "metadata": {},
   "outputs": [
    {
     "data": {
      "text/plain": [
       "array([False, False, False,  True,  True])"
      ]
     },
     "execution_count": 20,
     "metadata": {},
     "output_type": "execute_result"
    }
   ],
   "source": [
    "# numpy\n",
    "array>np.median(array)"
   ]
  },
  {
   "cell_type": "code",
   "execution_count": 21,
   "id": "64b97d3c",
   "metadata": {},
   "outputs": [
    {
     "data": {
      "text/plain": [
       "array([4, 5])"
      ]
     },
     "execution_count": 21,
     "metadata": {},
     "output_type": "execute_result"
    }
   ],
   "source": [
    "array[array>np.median(array)]"
   ]
  },
  {
   "cell_type": "code",
   "execution_count": 22,
   "id": "c38d246d",
   "metadata": {},
   "outputs": [
    {
     "data": {
      "text/plain": [
       "0    False\n",
       "1    False\n",
       "2    False\n",
       "3     True\n",
       "4     True\n",
       "dtype: bool"
      ]
     },
     "execution_count": 22,
     "metadata": {},
     "output_type": "execute_result"
    }
   ],
   "source": [
    "# pandas\n",
    "mask=series>series.median()\n",
    "mask"
   ]
  },
  {
   "cell_type": "code",
   "execution_count": 23,
   "id": "01d0d51a",
   "metadata": {},
   "outputs": [
    {
     "data": {
      "text/plain": [
       "3    4\n",
       "4    5\n",
       "dtype: int64"
      ]
     },
     "execution_count": 23,
     "metadata": {},
     "output_type": "execute_result"
    }
   ],
   "source": [
    "series[mask]"
   ]
  },
  {
   "cell_type": "markdown",
   "id": "dbcd0248",
   "metadata": {},
   "source": [
    "## Category Data"
   ]
  },
  {
   "cell_type": "markdown",
   "id": "1034b931",
   "metadata": {},
   "source": [
    "+ use less memory than strings\n",
    "+ can perform operations"
   ]
  },
  {
   "cell_type": "code",
   "execution_count": 24,
   "id": "eaf78519",
   "metadata": {},
   "outputs": [
    {
     "data": {
      "text/plain": [
       "0     z\n",
       "1    ab\n",
       "2    xc\n",
       "3    ld\n",
       "4     c\n",
       "dtype: category\n",
       "Categories (5, object): ['ab', 'c', 'ld', 'xc', 'z']"
      ]
     },
     "execution_count": 24,
     "metadata": {},
     "output_type": "execute_result"
    }
   ],
   "source": [
    "s=pd.Series(['z','ab','xc','ld','c'],dtype='category')\n",
    "s"
   ]
  },
  {
   "cell_type": "code",
   "execution_count": 25,
   "id": "fb4bad3f",
   "metadata": {},
   "outputs": [
    {
     "data": {
      "text/plain": [
       "0     Z\n",
       "1    AB\n",
       "2    XC\n",
       "3    LD\n",
       "4     C\n",
       "dtype: object"
      ]
     },
     "execution_count": 25,
     "metadata": {},
     "output_type": "execute_result"
    }
   ],
   "source": [
    "s.str.upper()"
   ]
  }
 ],
 "metadata": {
  "kernelspec": {
   "display_name": "Python 3 (ipykernel)",
   "language": "python",
   "name": "python3"
  },
  "language_info": {
   "codemirror_mode": {
    "name": "ipython",
    "version": 3
   },
   "file_extension": ".py",
   "mimetype": "text/x-python",
   "name": "python",
   "nbconvert_exporter": "python",
   "pygments_lexer": "ipython3",
   "version": "3.9.15"
  }
 },
 "nbformat": 4,
 "nbformat_minor": 5
}
